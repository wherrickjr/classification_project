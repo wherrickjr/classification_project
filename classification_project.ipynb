{
 "cells": [
  {
   "cell_type": "markdown",
   "id": "premier-milan",
   "metadata": {},
   "source": [
    "# Customer Churn Factors\n"
   ]
  },
  {
   "cell_type": "markdown",
   "id": "going-assembly",
   "metadata": {},
   "source": [
    "## Imports"
   ]
  },
  {
   "cell_type": "code",
   "execution_count": 73,
   "id": "divided-poster",
   "metadata": {},
   "outputs": [],
   "source": [
    "import pandas as pd\n",
    "import numpy as np\n",
    "\n",
    "import matplotlib.pyplot as plt\n",
    "import seaborn as sns\n",
    "import os\n",
    "\n",
    "from sklearn.model_selection import train_test_split\n",
    "import sklearn.preprocessing\n",
    "from sklearn.tree import DecisionTreeClassifier\n",
    "from sklearn.ensemble import RandomForestClassifier\n",
    "from sklearn.neighbors import KNeighborsClassifier\n",
    "from sklearn.linear_model import LogisticRegression\n",
    "from sklearn.tree import DecisionTreeClassifier, plot_tree\n",
    "from sklearn.metrics import classification_report\n",
    "\n",
    "import warnings\n",
    "warnings.filterwarnings(\"ignore\")\n",
    "\n",
    "from scipy import stats\n",
    "import acquire\n",
    "import prepare"
   ]
  },
  {
   "cell_type": "markdown",
   "id": "criminal-glory",
   "metadata": {},
   "source": [
    "## Acquire\n",
    "\n",
    "* Accquired data from noether sequal server\n",
    "* data obtained 1/2/2023\n",
    "* 7043 rows by 24 columns before cleaning\n",
    "* Each row represents a customer\n",
    "* Each column represents a demograhic or service type information\n"
   ]
  },
  {
   "cell_type": "markdown",
   "id": "cc62fd5b",
   "metadata": {},
   "source": []
  },
  {
   "cell_type": "code",
   "execution_count": 2,
   "id": "835c340e",
   "metadata": {},
   "outputs": [],
   "source": [
    "telco = acquire.get_telco_data() #acquiring data from server and assigning it to a variable\n"
   ]
  },
  {
   "cell_type": "code",
   "execution_count": 3,
   "id": "a9e2d921",
   "metadata": {},
   "outputs": [
    {
     "data": {
      "text/html": [
       "<div>\n",
       "<style scoped>\n",
       "    .dataframe tbody tr th:only-of-type {\n",
       "        vertical-align: middle;\n",
       "    }\n",
       "\n",
       "    .dataframe tbody tr th {\n",
       "        vertical-align: top;\n",
       "    }\n",
       "\n",
       "    .dataframe thead th {\n",
       "        text-align: right;\n",
       "    }\n",
       "</style>\n",
       "<table border=\"1\" class=\"dataframe\">\n",
       "  <thead>\n",
       "    <tr style=\"text-align: right;\">\n",
       "      <th></th>\n",
       "      <th>Unnamed: 0</th>\n",
       "      <th>customer_id</th>\n",
       "      <th>gender</th>\n",
       "      <th>senior_citizen</th>\n",
       "      <th>partner</th>\n",
       "      <th>dependents</th>\n",
       "      <th>tenure</th>\n",
       "      <th>phone_service</th>\n",
       "      <th>multiple_lines</th>\n",
       "      <th>internet_service_type_id</th>\n",
       "      <th>...</th>\n",
       "      <th>streaming_movies</th>\n",
       "      <th>contract_type_id</th>\n",
       "      <th>paperless_billing</th>\n",
       "      <th>payment_type_id</th>\n",
       "      <th>monthly_charges</th>\n",
       "      <th>total_charges</th>\n",
       "      <th>churn</th>\n",
       "      <th>internet_service_type</th>\n",
       "      <th>contract_type</th>\n",
       "      <th>payment_type</th>\n",
       "    </tr>\n",
       "  </thead>\n",
       "  <tbody>\n",
       "    <tr>\n",
       "      <th>0</th>\n",
       "      <td>0</td>\n",
       "      <td>0002-ORFBO</td>\n",
       "      <td>Female</td>\n",
       "      <td>0</td>\n",
       "      <td>Yes</td>\n",
       "      <td>Yes</td>\n",
       "      <td>9</td>\n",
       "      <td>Yes</td>\n",
       "      <td>No</td>\n",
       "      <td>1</td>\n",
       "      <td>...</td>\n",
       "      <td>No</td>\n",
       "      <td>2</td>\n",
       "      <td>Yes</td>\n",
       "      <td>2</td>\n",
       "      <td>65.6</td>\n",
       "      <td>593.3</td>\n",
       "      <td>No</td>\n",
       "      <td>DSL</td>\n",
       "      <td>One year</td>\n",
       "      <td>Mailed check</td>\n",
       "    </tr>\n",
       "    <tr>\n",
       "      <th>1</th>\n",
       "      <td>1</td>\n",
       "      <td>0003-MKNFE</td>\n",
       "      <td>Male</td>\n",
       "      <td>0</td>\n",
       "      <td>No</td>\n",
       "      <td>No</td>\n",
       "      <td>9</td>\n",
       "      <td>Yes</td>\n",
       "      <td>Yes</td>\n",
       "      <td>1</td>\n",
       "      <td>...</td>\n",
       "      <td>Yes</td>\n",
       "      <td>1</td>\n",
       "      <td>No</td>\n",
       "      <td>2</td>\n",
       "      <td>59.9</td>\n",
       "      <td>542.4</td>\n",
       "      <td>No</td>\n",
       "      <td>DSL</td>\n",
       "      <td>Month-to-month</td>\n",
       "      <td>Mailed check</td>\n",
       "    </tr>\n",
       "    <tr>\n",
       "      <th>2</th>\n",
       "      <td>2</td>\n",
       "      <td>0004-TLHLJ</td>\n",
       "      <td>Male</td>\n",
       "      <td>0</td>\n",
       "      <td>No</td>\n",
       "      <td>No</td>\n",
       "      <td>4</td>\n",
       "      <td>Yes</td>\n",
       "      <td>No</td>\n",
       "      <td>2</td>\n",
       "      <td>...</td>\n",
       "      <td>No</td>\n",
       "      <td>1</td>\n",
       "      <td>Yes</td>\n",
       "      <td>1</td>\n",
       "      <td>73.9</td>\n",
       "      <td>280.85</td>\n",
       "      <td>Yes</td>\n",
       "      <td>Fiber optic</td>\n",
       "      <td>Month-to-month</td>\n",
       "      <td>Electronic check</td>\n",
       "    </tr>\n",
       "    <tr>\n",
       "      <th>3</th>\n",
       "      <td>3</td>\n",
       "      <td>0011-IGKFF</td>\n",
       "      <td>Male</td>\n",
       "      <td>1</td>\n",
       "      <td>Yes</td>\n",
       "      <td>No</td>\n",
       "      <td>13</td>\n",
       "      <td>Yes</td>\n",
       "      <td>No</td>\n",
       "      <td>2</td>\n",
       "      <td>...</td>\n",
       "      <td>Yes</td>\n",
       "      <td>1</td>\n",
       "      <td>Yes</td>\n",
       "      <td>1</td>\n",
       "      <td>98.0</td>\n",
       "      <td>1237.85</td>\n",
       "      <td>Yes</td>\n",
       "      <td>Fiber optic</td>\n",
       "      <td>Month-to-month</td>\n",
       "      <td>Electronic check</td>\n",
       "    </tr>\n",
       "    <tr>\n",
       "      <th>4</th>\n",
       "      <td>4</td>\n",
       "      <td>0013-EXCHZ</td>\n",
       "      <td>Female</td>\n",
       "      <td>1</td>\n",
       "      <td>Yes</td>\n",
       "      <td>No</td>\n",
       "      <td>3</td>\n",
       "      <td>Yes</td>\n",
       "      <td>No</td>\n",
       "      <td>2</td>\n",
       "      <td>...</td>\n",
       "      <td>No</td>\n",
       "      <td>1</td>\n",
       "      <td>Yes</td>\n",
       "      <td>2</td>\n",
       "      <td>83.9</td>\n",
       "      <td>267.4</td>\n",
       "      <td>Yes</td>\n",
       "      <td>Fiber optic</td>\n",
       "      <td>Month-to-month</td>\n",
       "      <td>Mailed check</td>\n",
       "    </tr>\n",
       "  </tbody>\n",
       "</table>\n",
       "<p>5 rows × 25 columns</p>\n",
       "</div>"
      ],
      "text/plain": [
       "   Unnamed: 0 customer_id  gender  senior_citizen partner dependents  tenure  \\\n",
       "0           0  0002-ORFBO  Female               0     Yes        Yes       9   \n",
       "1           1  0003-MKNFE    Male               0      No         No       9   \n",
       "2           2  0004-TLHLJ    Male               0      No         No       4   \n",
       "3           3  0011-IGKFF    Male               1     Yes         No      13   \n",
       "4           4  0013-EXCHZ  Female               1     Yes         No       3   \n",
       "\n",
       "  phone_service multiple_lines  internet_service_type_id  ...  \\\n",
       "0           Yes             No                         1  ...   \n",
       "1           Yes            Yes                         1  ...   \n",
       "2           Yes             No                         2  ...   \n",
       "3           Yes             No                         2  ...   \n",
       "4           Yes             No                         2  ...   \n",
       "\n",
       "  streaming_movies contract_type_id paperless_billing payment_type_id  \\\n",
       "0               No                2               Yes               2   \n",
       "1              Yes                1                No               2   \n",
       "2               No                1               Yes               1   \n",
       "3              Yes                1               Yes               1   \n",
       "4               No                1               Yes               2   \n",
       "\n",
       "  monthly_charges total_charges  churn internet_service_type   contract_type  \\\n",
       "0            65.6         593.3     No                   DSL        One year   \n",
       "1            59.9         542.4     No                   DSL  Month-to-month   \n",
       "2            73.9        280.85    Yes           Fiber optic  Month-to-month   \n",
       "3            98.0       1237.85    Yes           Fiber optic  Month-to-month   \n",
       "4            83.9         267.4    Yes           Fiber optic  Month-to-month   \n",
       "\n",
       "       payment_type  \n",
       "0      Mailed check  \n",
       "1      Mailed check  \n",
       "2  Electronic check  \n",
       "3  Electronic check  \n",
       "4      Mailed check  \n",
       "\n",
       "[5 rows x 25 columns]"
      ]
     },
     "execution_count": 3,
     "metadata": {},
     "output_type": "execute_result"
    }
   ],
   "source": [
    "telco.head() # a brief look at the data"
   ]
  },
  {
   "cell_type": "code",
   "execution_count": 4,
   "id": "ccba63db",
   "metadata": {},
   "outputs": [],
   "source": [
    "DSL = np.array([459, 1962])\n",
    "Fiber_optic = np.array([1297, 1799])\n",
    "nointernet = np.array([113, 1413])"
   ]
  },
  {
   "cell_type": "markdown",
   "id": "0fd592d1",
   "metadata": {},
   "source": [
    "# Explore\n",
    "* Explore data in search of drivers of churn\n",
    "   * Answer the following initial questions\n",
    "       * How often does churn occur?\n",
    "       * Do total_charges affect churn?\n",
    "       * Do monthly_charges affect churn?\n",
    "       * Does contract_type affect churn?\n",
    "       * Does having online_security affect churn?\n",
    "       * Does a customer's internet service type affect churn?"
   ]
  },
  {
   "cell_type": "code",
   "execution_count": 5,
   "id": "0b00238a",
   "metadata": {},
   "outputs": [],
   "source": [
    "churned = telco[telco['churn'] == 'Yes'] #1869 count of customers that have churned"
   ]
  },
  {
   "cell_type": "code",
   "execution_count": 6,
   "id": "867c67b7",
   "metadata": {},
   "outputs": [],
   "source": [
    "churned = telco[telco['churn'] == 'No'] #5174 cound of customers that have not churned"
   ]
  },
  {
   "cell_type": "code",
   "execution_count": 7,
   "id": "912e9a19",
   "metadata": {},
   "outputs": [],
   "source": [
    "y = np.array([1869, 5174])\n",
    "mylabels = ['churned', 'not churned']"
   ]
  },
  {
   "cell_type": "markdown",
   "id": "8f50dbee",
   "metadata": {},
   "source": [
    "## How often does churn occur?"
   ]
  },
  {
   "cell_type": "code",
   "execution_count": 113,
   "id": "661dba4f",
   "metadata": {},
   "outputs": [
    {
     "data": {
      "text/plain": [
       "Text(0.5, 1.0, 'churn rate')"
      ]
     },
     "execution_count": 113,
     "metadata": {},
     "output_type": "execute_result"
    },
    {
     "data": {
      "image/png": "[encoded data removed]",
      "text/plain": [
       "<Figure size 640x480 with 1 Axes>"
      ]
     },
     "metadata": {},
     "output_type": "display_data"
    }
   ],
   "source": [
    "plt.pie(y, labels = mylabels, startangle=90, autopct='%1.1f%%')\n",
    "plt.title('churn rate')"
   ]
  },
  {
   "cell_type": "markdown",
   "id": "ea101b26",
   "metadata": {},
   "source": [
    "It is shown that roughly 26% of customers will churn"
   ]
  },
  {
   "cell_type": "markdown",
   "id": "fc12abff",
   "metadata": {},
   "source": [
    "## Does internet service type affect churn?"
   ]
  },
  {
   "cell_type": "code",
   "execution_count": 9,
   "id": "07ca8c19",
   "metadata": {},
   "outputs": [],
   "source": [
    "DSL = np.array([459, 1962])\n",
    "Fiber_optic = np.array([1297, 1799])\n",
    "nointernet = np.array([113, 1413])"
   ]
  },
  {
   "cell_type": "code",
   "execution_count": 10,
   "id": "791c7fa8",
   "metadata": {},
   "outputs": [
    {
     "data": {
      "text/plain": [
       "Text(0.5, 1.0, 'DSL Churn Rate')"
      ]
     },
     "execution_count": 10,
     "metadata": {},
     "output_type": "execute_result"
    },
    {
     "data": {
      "image/png": "[encoded data removed]",
      "text/plain": [
       "<Figure size 640x480 with 1 Axes>"
      ]
     },
     "metadata": {},
     "output_type": "display_data"
    }
   ],
   "source": [
    "plt.pie(DSL, labels = mylabels, startangle=90, autopct='%1.1f%%')\n",
    "plt.title('DSL Churn Rate')"
   ]
  },
  {
   "cell_type": "code",
   "execution_count": 11,
   "id": "e9885f01",
   "metadata": {},
   "outputs": [
    {
     "data": {
      "text/plain": [
       "Text(0.5, 1.0, 'Fiber Optic Churn Rate')"
      ]
     },
     "execution_count": 11,
     "metadata": {},
     "output_type": "execute_result"
    },
    {
     "data": {
      "image/png": "[encoded data removed]",
      "text/plain": [
       "<Figure size 640x480 with 1 Axes>"
      ]
     },
     "metadata": {},
     "output_type": "display_data"
    }
   ],
   "source": [
    "plt.pie(Fiber_optic, labels = mylabels, startangle=90, autopct='%1.1f%%')\n",
    "plt.title('Fiber Optic Churn Rate')\n",
    "\n"
   ]
  },
  {
   "cell_type": "code",
   "execution_count": 12,
   "id": "01e6add1",
   "metadata": {},
   "outputs": [
    {
     "data": {
      "image/png": "[encoded data removed]",
      "text/plain": [
       "<Figure size 640x480 with 1 Axes>"
      ]
     },
     "metadata": {},
     "output_type": "display_data"
    }
   ],
   "source": [
    "\n",
    "plt.pie(nointernet,labels=mylabels, startangle=90, autopct='%1.1f%%')\n",
    "plt.title(\"No Internet Churn Rate\")\n",
    "plt.axis('equal')\n",
    "\n",
    "plt.show()"
   ]
  },
  {
   "cell_type": "markdown",
   "id": "6f41ed96",
   "metadata": {},
   "source": [
    "#### it appears as though customers with Fibic optic Internet are more likely to churn"
   ]
  },
  {
   "cell_type": "markdown",
   "id": "33b27b78",
   "metadata": {},
   "source": [
    "## Prepare\n",
    "* Removed columns that did not contain useful information\n",
    "* Checked for nulls in the data and removed them\n",
    "* Eliminated rows that did have a space as a value in their total_charges column\n",
    "* Changed total_charges column object to float\n",
    "* Added dummy variables for categorical variables\n",
    "* Split data into train, validate and test (approx. 60/25/15), stratifying on 'churn'\n",
    "* Scaled continuous variable\n",
    "* Outliers have not been removed for this iteration of the project"
   ]
  },
  {
   "cell_type": "code",
   "execution_count": 13,
   "id": "2fd8810a",
   "metadata": {},
   "outputs": [],
   "source": [
    "telco = prepare.prep_classification_project_chi(telco) #function prepares data"
   ]
  },
  {
   "cell_type": "markdown",
   "id": "22128345",
   "metadata": {},
   "source": [
    "## A quick look at the data\n"
   ]
  },
  {
   "cell_type": "code",
   "execution_count": 14,
   "id": "d3fb3eaf",
   "metadata": {},
   "outputs": [
    {
     "data": {
      "text/html": [
       "<div>\n",
       "<style scoped>\n",
       "    .dataframe tbody tr th:only-of-type {\n",
       "        vertical-align: middle;\n",
       "    }\n",
       "\n",
       "    .dataframe tbody tr th {\n",
       "        vertical-align: top;\n",
       "    }\n",
       "\n",
       "    .dataframe thead th {\n",
       "        text-align: right;\n",
       "    }\n",
       "</style>\n",
       "<table border=\"1\" class=\"dataframe\">\n",
       "  <thead>\n",
       "    <tr style=\"text-align: right;\">\n",
       "      <th></th>\n",
       "      <th>online_security</th>\n",
       "      <th>churn</th>\n",
       "      <th>internet_service_type</th>\n",
       "      <th>scaled_total</th>\n",
       "      <th>scaled_monthly</th>\n",
       "      <th>online_security_No internet service</th>\n",
       "      <th>online_security_Yes</th>\n",
       "      <th>internet_service_type_Fiber optic</th>\n",
       "      <th>internet_service_type_None</th>\n",
       "      <th>contract_type_One year</th>\n",
       "      <th>contract_type_Two year</th>\n",
       "    </tr>\n",
       "  </thead>\n",
       "  <tbody>\n",
       "    <tr>\n",
       "      <th>0</th>\n",
       "      <td>No</td>\n",
       "      <td>No</td>\n",
       "      <td>DSL</td>\n",
       "      <td>0.068315</td>\n",
       "      <td>0.552421</td>\n",
       "      <td>0</td>\n",
       "      <td>0</td>\n",
       "      <td>0</td>\n",
       "      <td>0</td>\n",
       "      <td>1</td>\n",
       "      <td>0</td>\n",
       "    </tr>\n",
       "    <tr>\n",
       "      <th>1</th>\n",
       "      <td>No</td>\n",
       "      <td>No</td>\n",
       "      <td>DSL</td>\n",
       "      <td>0.062454</td>\n",
       "      <td>0.504421</td>\n",
       "      <td>0</td>\n",
       "      <td>0</td>\n",
       "      <td>0</td>\n",
       "      <td>0</td>\n",
       "      <td>0</td>\n",
       "      <td>0</td>\n",
       "    </tr>\n",
       "    <tr>\n",
       "      <th>2</th>\n",
       "      <td>No</td>\n",
       "      <td>Yes</td>\n",
       "      <td>Fiber optic</td>\n",
       "      <td>0.032338</td>\n",
       "      <td>0.622316</td>\n",
       "      <td>0</td>\n",
       "      <td>0</td>\n",
       "      <td>1</td>\n",
       "      <td>0</td>\n",
       "      <td>0</td>\n",
       "      <td>0</td>\n",
       "    </tr>\n",
       "    <tr>\n",
       "      <th>3</th>\n",
       "      <td>No</td>\n",
       "      <td>Yes</td>\n",
       "      <td>Fiber optic</td>\n",
       "      <td>0.142531</td>\n",
       "      <td>0.825263</td>\n",
       "      <td>0</td>\n",
       "      <td>0</td>\n",
       "      <td>1</td>\n",
       "      <td>0</td>\n",
       "      <td>0</td>\n",
       "      <td>0</td>\n",
       "    </tr>\n",
       "    <tr>\n",
       "      <th>4</th>\n",
       "      <td>No</td>\n",
       "      <td>Yes</td>\n",
       "      <td>Fiber optic</td>\n",
       "      <td>0.030789</td>\n",
       "      <td>0.706526</td>\n",
       "      <td>0</td>\n",
       "      <td>0</td>\n",
       "      <td>1</td>\n",
       "      <td>0</td>\n",
       "      <td>0</td>\n",
       "      <td>0</td>\n",
       "    </tr>\n",
       "  </tbody>\n",
       "</table>\n",
       "</div>"
      ],
      "text/plain": [
       "  online_security churn internet_service_type  scaled_total  scaled_monthly  \\\n",
       "0              No    No                   DSL      0.068315        0.552421   \n",
       "1              No    No                   DSL      0.062454        0.504421   \n",
       "2              No   Yes           Fiber optic      0.032338        0.622316   \n",
       "3              No   Yes           Fiber optic      0.142531        0.825263   \n",
       "4              No   Yes           Fiber optic      0.030789        0.706526   \n",
       "\n",
       "   online_security_No internet service  online_security_Yes  \\\n",
       "0                                    0                    0   \n",
       "1                                    0                    0   \n",
       "2                                    0                    0   \n",
       "3                                    0                    0   \n",
       "4                                    0                    0   \n",
       "\n",
       "   internet_service_type_Fiber optic  internet_service_type_None  \\\n",
       "0                                  0                           0   \n",
       "1                                  0                           0   \n",
       "2                                  1                           0   \n",
       "3                                  1                           0   \n",
       "4                                  1                           0   \n",
       "\n",
       "   contract_type_One year  contract_type_Two year  \n",
       "0                       1                       0  \n",
       "1                       0                       0  \n",
       "2                       0                       0  \n",
       "3                       0                       0  \n",
       "4                       0                       0  "
      ]
     },
     "execution_count": 14,
     "metadata": {},
     "output_type": "execute_result"
    }
   ],
   "source": [
    "telco.head() #prints the first 5 rows of the cleaned dataset"
   ]
  },
  {
   "cell_type": "markdown",
   "id": "1ffcb75d",
   "metadata": {},
   "source": [
    "## A summary of the data"
   ]
  },
  {
   "cell_type": "code",
   "execution_count": 15,
   "id": "e055568a",
   "metadata": {},
   "outputs": [
    {
     "data": {
      "text/html": [
       "<div>\n",
       "<style scoped>\n",
       "    .dataframe tbody tr th:only-of-type {\n",
       "        vertical-align: middle;\n",
       "    }\n",
       "\n",
       "    .dataframe tbody tr th {\n",
       "        vertical-align: top;\n",
       "    }\n",
       "\n",
       "    .dataframe thead th {\n",
       "        text-align: right;\n",
       "    }\n",
       "</style>\n",
       "<table border=\"1\" class=\"dataframe\">\n",
       "  <thead>\n",
       "    <tr style=\"text-align: right;\">\n",
       "      <th></th>\n",
       "      <th>scaled_total</th>\n",
       "      <th>scaled_monthly</th>\n",
       "      <th>online_security_No internet service</th>\n",
       "      <th>online_security_Yes</th>\n",
       "      <th>internet_service_type_Fiber optic</th>\n",
       "      <th>internet_service_type_None</th>\n",
       "      <th>contract_type_One year</th>\n",
       "      <th>contract_type_Two year</th>\n",
       "    </tr>\n",
       "  </thead>\n",
       "  <tbody>\n",
       "    <tr>\n",
       "      <th>count</th>\n",
       "      <td>7032.000000</td>\n",
       "      <td>7032.000000</td>\n",
       "      <td>7032.000000</td>\n",
       "      <td>7032.000000</td>\n",
       "      <td>7032.000000</td>\n",
       "      <td>7032.000000</td>\n",
       "      <td>7032.000000</td>\n",
       "      <td>7032.000000</td>\n",
       "    </tr>\n",
       "    <tr>\n",
       "      <th>mean</th>\n",
       "      <td>0.262908</td>\n",
       "      <td>0.545669</td>\n",
       "      <td>0.216155</td>\n",
       "      <td>0.286547</td>\n",
       "      <td>0.440273</td>\n",
       "      <td>0.216155</td>\n",
       "      <td>0.209329</td>\n",
       "      <td>0.239619</td>\n",
       "    </tr>\n",
       "    <tr>\n",
       "      <th>std</th>\n",
       "      <td>0.261004</td>\n",
       "      <td>0.253356</td>\n",
       "      <td>0.411650</td>\n",
       "      <td>0.452180</td>\n",
       "      <td>0.496455</td>\n",
       "      <td>0.411650</td>\n",
       "      <td>0.406858</td>\n",
       "      <td>0.426881</td>\n",
       "    </tr>\n",
       "    <tr>\n",
       "      <th>min</th>\n",
       "      <td>0.002165</td>\n",
       "      <td>0.153684</td>\n",
       "      <td>0.000000</td>\n",
       "      <td>0.000000</td>\n",
       "      <td>0.000000</td>\n",
       "      <td>0.000000</td>\n",
       "      <td>0.000000</td>\n",
       "      <td>0.000000</td>\n",
       "    </tr>\n",
       "    <tr>\n",
       "      <th>25%</th>\n",
       "      <td>0.046224</td>\n",
       "      <td>0.299684</td>\n",
       "      <td>0.000000</td>\n",
       "      <td>0.000000</td>\n",
       "      <td>0.000000</td>\n",
       "      <td>0.000000</td>\n",
       "      <td>0.000000</td>\n",
       "      <td>0.000000</td>\n",
       "    </tr>\n",
       "    <tr>\n",
       "      <th>50%</th>\n",
       "      <td>0.160910</td>\n",
       "      <td>0.592421</td>\n",
       "      <td>0.000000</td>\n",
       "      <td>0.000000</td>\n",
       "      <td>0.000000</td>\n",
       "      <td>0.000000</td>\n",
       "      <td>0.000000</td>\n",
       "      <td>0.000000</td>\n",
       "    </tr>\n",
       "    <tr>\n",
       "      <th>75%</th>\n",
       "      <td>0.436940</td>\n",
       "      <td>0.756737</td>\n",
       "      <td>0.000000</td>\n",
       "      <td>1.000000</td>\n",
       "      <td>1.000000</td>\n",
       "      <td>0.000000</td>\n",
       "      <td>0.000000</td>\n",
       "      <td>0.000000</td>\n",
       "    </tr>\n",
       "    <tr>\n",
       "      <th>max</th>\n",
       "      <td>1.000000</td>\n",
       "      <td>1.000000</td>\n",
       "      <td>1.000000</td>\n",
       "      <td>1.000000</td>\n",
       "      <td>1.000000</td>\n",
       "      <td>1.000000</td>\n",
       "      <td>1.000000</td>\n",
       "      <td>1.000000</td>\n",
       "    </tr>\n",
       "  </tbody>\n",
       "</table>\n",
       "</div>"
      ],
      "text/plain": [
       "       scaled_total  scaled_monthly  online_security_No internet service  \\\n",
       "count   7032.000000     7032.000000                          7032.000000   \n",
       "mean       0.262908        0.545669                             0.216155   \n",
       "std        0.261004        0.253356                             0.411650   \n",
       "min        0.002165        0.153684                             0.000000   \n",
       "25%        0.046224        0.299684                             0.000000   \n",
       "50%        0.160910        0.592421                             0.000000   \n",
       "75%        0.436940        0.756737                             0.000000   \n",
       "max        1.000000        1.000000                             1.000000   \n",
       "\n",
       "       online_security_Yes  internet_service_type_Fiber optic  \\\n",
       "count          7032.000000                        7032.000000   \n",
       "mean              0.286547                           0.440273   \n",
       "std               0.452180                           0.496455   \n",
       "min               0.000000                           0.000000   \n",
       "25%               0.000000                           0.000000   \n",
       "50%               0.000000                           0.000000   \n",
       "75%               1.000000                           1.000000   \n",
       "max               1.000000                           1.000000   \n",
       "\n",
       "       internet_service_type_None  contract_type_One year  \\\n",
       "count                 7032.000000             7032.000000   \n",
       "mean                     0.216155                0.209329   \n",
       "std                      0.411650                0.406858   \n",
       "min                      0.000000                0.000000   \n",
       "25%                      0.000000                0.000000   \n",
       "50%                      0.000000                0.000000   \n",
       "75%                      0.000000                0.000000   \n",
       "max                      1.000000                1.000000   \n",
       "\n",
       "       contract_type_Two year  \n",
       "count             7032.000000  \n",
       "mean                 0.239619  \n",
       "std                  0.426881  \n",
       "min                  0.000000  \n",
       "25%                  0.000000  \n",
       "50%                  0.000000  \n",
       "75%                  0.000000  \n",
       "max                  1.000000  "
      ]
     },
     "execution_count": 15,
     "metadata": {},
     "output_type": "execute_result"
    }
   ],
   "source": [
    "telco.describe() #statistical description of each of the numerical value columns"
   ]
  },
  {
   "cell_type": "code",
   "execution_count": 16,
   "id": "21abac83",
   "metadata": {},
   "outputs": [],
   "source": [
    "#splits data into train, validate, and test variables\n",
    "train, test = train_test_split(telco, test_size=.2, random_state=123, stratify=telco.churn)\n",
    "train, validate = train_test_split(train, test_size=.3, random_state=123, stratify=train.churn)"
   ]
  },
  {
   "cell_type": "code",
   "execution_count": 17,
   "id": "e731414a",
   "metadata": {},
   "outputs": [
    {
     "name": "stdout",
     "output_type": "stream",
     "text": [
      "train -> (3937, 11)\n",
      "validate -> (1688, 11)\n",
      "test -> (1407, 11)\n"
     ]
    }
   ],
   "source": [
    "#verifying that data was split correctly \n",
    "print(f'train -> {train.shape}')\n",
    "print(f'validate -> {validate.shape}')\n",
    "print(f'test -> {test.shape}')"
   ]
  },
  {
   "cell_type": "code",
   "execution_count": 18,
   "id": "f929dc64",
   "metadata": {},
   "outputs": [
    {
     "name": "stdout",
     "output_type": "stream",
     "text": [
      "<class 'pandas.core.frame.DataFrame'>\n",
      "Int64Index: 3937 entries, 5919 to 4192\n",
      "Data columns (total 11 columns):\n",
      " #   Column                               Non-Null Count  Dtype  \n",
      "---  ------                               --------------  -----  \n",
      " 0   online_security                      3937 non-null   object \n",
      " 1   churn                                3937 non-null   object \n",
      " 2   internet_service_type                3937 non-null   object \n",
      " 3   scaled_total                         3937 non-null   float64\n",
      " 4   scaled_monthly                       3937 non-null   float64\n",
      " 5   online_security_No internet service  3937 non-null   uint8  \n",
      " 6   online_security_Yes                  3937 non-null   uint8  \n",
      " 7   internet_service_type_Fiber optic    3937 non-null   uint8  \n",
      " 8   internet_service_type_None           3937 non-null   uint8  \n",
      " 9   contract_type_One year               3937 non-null   uint8  \n",
      " 10  contract_type_Two year               3937 non-null   uint8  \n",
      "dtypes: float64(2), object(3), uint8(6)\n",
      "memory usage: 207.6+ KB\n"
     ]
    }
   ],
   "source": [
    "train.info()\n"
   ]
  },
  {
   "cell_type": "markdown",
   "id": "fa4c38d7",
   "metadata": {},
   "source": [
    "### I will now perform a chi squared test to see if there exists a relationship between internet service type and churn"
   ]
  },
  {
   "cell_type": "code",
   "execution_count": 19,
   "id": "1b3097dd",
   "metadata": {},
   "outputs": [],
   "source": [
    "# created cross tab for internet service type vs churn\n",
    "observed = pd.crosstab(train.internet_service_type, train.churn)"
   ]
  },
  {
   "cell_type": "code",
   "execution_count": 20,
   "id": "db78f6de",
   "metadata": {},
   "outputs": [],
   "source": [
    "# Performing chi squared tests\n",
    "chi2, p, degf, expected = stats.chi2_contingency(observed)"
   ]
  },
  {
   "cell_type": "code",
   "execution_count": 21,
   "id": "ea0a7cee",
   "metadata": {},
   "outputs": [
    {
     "name": "stdout",
     "output_type": "stream",
     "text": [
      "Observed Values\n",
      "\n",
      "[[1101  247]\n",
      " [ 987  735]\n",
      " [ 803   64]]\n",
      "---\n",
      "Expected Values\n",
      "\n",
      "[[ 989  358]\n",
      " [1264  457]\n",
      " [ 636  230]]\n",
      "---\n",
      "\n",
      "chi^2 = 439.7661\n",
      "p     = 0.0000\n"
     ]
    }
   ],
   "source": [
    "# print 'Observed Values' followed by a new line\n",
    "print('Observed Values\\n')\n",
    "\n",
    "# print the values from the 'observed' dataframe\n",
    "print(observed.values)\n",
    "\n",
    "# print --- and then a new line, 'Expected Values', followed by another new line\n",
    "print('---\\nExpected Values\\n')\n",
    "\n",
    "# print the expected values array\n",
    "print(expected.astype(int))\n",
    "\n",
    "# print a new line\n",
    "print('---\\n')\n",
    "\n",
    "# print the chi2 value, formatted to a float with 4 digits. \n",
    "print(f'chi^2 = {chi2:.4f}') \n",
    "\n",
    "# print the p-value, formatted to a float with 4 digits. \n",
    "print(f'p     = {p:.4f}')"
   ]
  },
  {
   "cell_type": "markdown",
   "id": "e73d5779",
   "metadata": {},
   "source": [
    "### according to the test, we can say that there likely is a relationship between internet service type and churn"
   ]
  },
  {
   "cell_type": "markdown",
   "id": "29347cf4",
   "metadata": {},
   "source": [
    "## I will now perform a chi squared test to see if there exists a relationship between churn and having online_security"
   ]
  },
  {
   "cell_type": "code",
   "execution_count": 22,
   "id": "50f45585",
   "metadata": {},
   "outputs": [],
   "source": [
    "#defining variable as crosstab between churn and online_security\n",
    "observed = pd.crosstab(train.online_security, train.churn)"
   ]
  },
  {
   "cell_type": "code",
   "execution_count": 23,
   "id": "e57b1976",
   "metadata": {},
   "outputs": [],
   "source": [
    "# Performing chi squared tests\n",
    "chi2, p, degf, expected = stats.chi2_contingency(observed)"
   ]
  },
  {
   "cell_type": "code",
   "execution_count": 24,
   "id": "a85e6160",
   "metadata": {},
   "outputs": [
    {
     "name": "stdout",
     "output_type": "stream",
     "text": [
      "Observed Values\n",
      "\n",
      "[[1099  819]\n",
      " [ 803   64]\n",
      " [ 989  163]]\n",
      "---\n",
      "Expected Values\n",
      "\n",
      "[[1408  509]\n",
      " [ 636  230]\n",
      " [ 845  306]]\n",
      "---\n",
      "\n",
      "chi^2 = 510.5206\n",
      "p     = 0.0000\n"
     ]
    }
   ],
   "source": [
    "# print 'Observed Values' followed by a new line\n",
    "print('Observed Values\\n')\n",
    "\n",
    "# print the values from the 'observed' dataframe\n",
    "print(observed.values)\n",
    "\n",
    "# print --- and then a new line, 'Expected Values', followed by another new line\n",
    "print('---\\nExpected Values\\n')\n",
    "\n",
    "# print the expected values array\n",
    "print(expected.astype(int))\n",
    "\n",
    "# print a new line\n",
    "print('---\\n')\n",
    "\n",
    "# print the chi2 value, formatted to a float with 4 digits. \n",
    "print(f'chi^2 = {chi2:.4f}') \n",
    "\n",
    "# print the p-value, formatted to a float with 4 digits. \n",
    "print(f'p     = {p:.4f}')"
   ]
  },
  {
   "cell_type": "markdown",
   "id": "658c437f",
   "metadata": {},
   "source": [
    "## According to our model, there does exist a relationship between online security and churn"
   ]
  },
  {
   "cell_type": "code",
   "execution_count": 84,
   "id": "b7fe5c5d",
   "metadata": {},
   "outputs": [],
   "source": [
    "#calling model\n",
    "seed = 42\n",
    "clf = DecisionTreeClassifier(max_depth = 3, random_state = 42)"
   ]
  },
  {
   "cell_type": "code",
   "execution_count": 85,
   "id": "4295d134",
   "metadata": {},
   "outputs": [],
   "source": [
    "telco = acquire.get_telco_data() #restarting getting the data"
   ]
  },
  {
   "cell_type": "code",
   "execution_count": 86,
   "id": "be501ad8",
   "metadata": {},
   "outputs": [],
   "source": [
    "telco = prepare.prep_classification_project_tree(telco) #preparing data for decision tree model"
   ]
  },
  {
   "cell_type": "code",
   "execution_count": 87,
   "id": "3e4db2d0",
   "metadata": {},
   "outputs": [],
   "source": [
    "train, test = train_test_split(telco, test_size=.2, random_state=123, stratify=telco.churn)\n",
    "train, validate = train_test_split(train, test_size=.3, random_state=123, stratify=train.churn)\n",
    "#splitting data"
   ]
  },
  {
   "cell_type": "code",
   "execution_count": 91,
   "id": "2d15fe16",
   "metadata": {},
   "outputs": [],
   "source": [
    "# preparing variables to fit into decision tree model statifying churn\n",
    "x_train = train.drop(columns = ['churn'])\n",
    "y_train = train['churn']\n",
    "\n",
    "x_val = validate.drop(columns = ['churn'])\n",
    "y_val = validate['churn']\n",
    "\n",
    "x_test = test.drop(columns = ['churn'])\n",
    "y_test = test['churn']"
   ]
  },
  {
   "cell_type": "code",
   "execution_count": null,
   "id": "fd13a50e",
   "metadata": {},
   "outputs": [],
   "source": []
  },
  {
   "cell_type": "code",
   "execution_count": 92,
   "id": "d27485fb",
   "metadata": {},
   "outputs": [
    {
     "data": {
      "text/html": [
       "<div>\n",
       "<style scoped>\n",
       "    .dataframe tbody tr th:only-of-type {\n",
       "        vertical-align: middle;\n",
       "    }\n",
       "\n",
       "    .dataframe tbody tr th {\n",
       "        vertical-align: top;\n",
       "    }\n",
       "\n",
       "    .dataframe thead th {\n",
       "        text-align: right;\n",
       "    }\n",
       "</style>\n",
       "<table border=\"1\" class=\"dataframe\">\n",
       "  <thead>\n",
       "    <tr style=\"text-align: right;\">\n",
       "      <th></th>\n",
       "      <th>churn</th>\n",
       "      <th>scaled_total</th>\n",
       "      <th>scaled_monthly</th>\n",
       "      <th>online_security_No internet service</th>\n",
       "      <th>online_security_Yes</th>\n",
       "      <th>internet_service_type_Fiber optic</th>\n",
       "      <th>internet_service_type_None</th>\n",
       "      <th>contract_type_One year</th>\n",
       "      <th>contract_type_Two year</th>\n",
       "    </tr>\n",
       "  </thead>\n",
       "  <tbody>\n",
       "    <tr>\n",
       "      <th>5919</th>\n",
       "      <td>No</td>\n",
       "      <td>0.495026</td>\n",
       "      <td>0.598737</td>\n",
       "      <td>0</td>\n",
       "      <td>1</td>\n",
       "      <td>0</td>\n",
       "      <td>0</td>\n",
       "      <td>1</td>\n",
       "      <td>0</td>\n",
       "    </tr>\n",
       "    <tr>\n",
       "      <th>1915</th>\n",
       "      <td>No</td>\n",
       "      <td>0.694196</td>\n",
       "      <td>0.719579</td>\n",
       "      <td>0</td>\n",
       "      <td>1</td>\n",
       "      <td>1</td>\n",
       "      <td>0</td>\n",
       "      <td>1</td>\n",
       "      <td>0</td>\n",
       "    </tr>\n",
       "    <tr>\n",
       "      <th>5054</th>\n",
       "      <td>No</td>\n",
       "      <td>0.101620</td>\n",
       "      <td>0.216842</td>\n",
       "      <td>1</td>\n",
       "      <td>0</td>\n",
       "      <td>0</td>\n",
       "      <td>1</td>\n",
       "      <td>0</td>\n",
       "      <td>0</td>\n",
       "    </tr>\n",
       "    <tr>\n",
       "      <th>2355</th>\n",
       "      <td>No</td>\n",
       "      <td>0.002211</td>\n",
       "      <td>0.161684</td>\n",
       "      <td>1</td>\n",
       "      <td>0</td>\n",
       "      <td>0</td>\n",
       "      <td>1</td>\n",
       "      <td>0</td>\n",
       "      <td>0</td>\n",
       "    </tr>\n",
       "    <tr>\n",
       "      <th>6279</th>\n",
       "      <td>No</td>\n",
       "      <td>0.121580</td>\n",
       "      <td>0.454737</td>\n",
       "      <td>0</td>\n",
       "      <td>1</td>\n",
       "      <td>0</td>\n",
       "      <td>0</td>\n",
       "      <td>1</td>\n",
       "      <td>0</td>\n",
       "    </tr>\n",
       "    <tr>\n",
       "      <th>...</th>\n",
       "      <td>...</td>\n",
       "      <td>...</td>\n",
       "      <td>...</td>\n",
       "      <td>...</td>\n",
       "      <td>...</td>\n",
       "      <td>...</td>\n",
       "      <td>...</td>\n",
       "      <td>...</td>\n",
       "      <td>...</td>\n",
       "    </tr>\n",
       "    <tr>\n",
       "      <th>394</th>\n",
       "      <td>No</td>\n",
       "      <td>0.238664</td>\n",
       "      <td>0.749053</td>\n",
       "      <td>0</td>\n",
       "      <td>0</td>\n",
       "      <td>1</td>\n",
       "      <td>0</td>\n",
       "      <td>0</td>\n",
       "      <td>0</td>\n",
       "    </tr>\n",
       "    <tr>\n",
       "      <th>3763</th>\n",
       "      <td>Yes</td>\n",
       "      <td>0.122588</td>\n",
       "      <td>0.844211</td>\n",
       "      <td>0</td>\n",
       "      <td>1</td>\n",
       "      <td>1</td>\n",
       "      <td>0</td>\n",
       "      <td>0</td>\n",
       "      <td>0</td>\n",
       "    </tr>\n",
       "    <tr>\n",
       "      <th>3444</th>\n",
       "      <td>No</td>\n",
       "      <td>0.063951</td>\n",
       "      <td>0.212632</td>\n",
       "      <td>1</td>\n",
       "      <td>0</td>\n",
       "      <td>0</td>\n",
       "      <td>1</td>\n",
       "      <td>0</td>\n",
       "      <td>1</td>\n",
       "    </tr>\n",
       "    <tr>\n",
       "      <th>1002</th>\n",
       "      <td>No</td>\n",
       "      <td>0.224461</td>\n",
       "      <td>0.750316</td>\n",
       "      <td>0</td>\n",
       "      <td>0</td>\n",
       "      <td>1</td>\n",
       "      <td>0</td>\n",
       "      <td>0</td>\n",
       "      <td>0</td>\n",
       "    </tr>\n",
       "    <tr>\n",
       "      <th>4192</th>\n",
       "      <td>No</td>\n",
       "      <td>0.004917</td>\n",
       "      <td>0.168842</td>\n",
       "      <td>1</td>\n",
       "      <td>0</td>\n",
       "      <td>0</td>\n",
       "      <td>1</td>\n",
       "      <td>0</td>\n",
       "      <td>0</td>\n",
       "    </tr>\n",
       "  </tbody>\n",
       "</table>\n",
       "<p>3937 rows × 9 columns</p>\n",
       "</div>"
      ],
      "text/plain": [
       "     churn  scaled_total  scaled_monthly  online_security_No internet service  \\\n",
       "5919    No      0.495026        0.598737                                    0   \n",
       "1915    No      0.694196        0.719579                                    0   \n",
       "5054    No      0.101620        0.216842                                    1   \n",
       "2355    No      0.002211        0.161684                                    1   \n",
       "6279    No      0.121580        0.454737                                    0   \n",
       "...    ...           ...             ...                                  ...   \n",
       "394     No      0.238664        0.749053                                    0   \n",
       "3763   Yes      0.122588        0.844211                                    0   \n",
       "3444    No      0.063951        0.212632                                    1   \n",
       "1002    No      0.224461        0.750316                                    0   \n",
       "4192    No      0.004917        0.168842                                    1   \n",
       "\n",
       "      online_security_Yes  internet_service_type_Fiber optic  \\\n",
       "5919                    1                                  0   \n",
       "1915                    1                                  1   \n",
       "5054                    0                                  0   \n",
       "2355                    0                                  0   \n",
       "6279                    1                                  0   \n",
       "...                   ...                                ...   \n",
       "394                     0                                  1   \n",
       "3763                    1                                  1   \n",
       "3444                    0                                  0   \n",
       "1002                    0                                  1   \n",
       "4192                    0                                  0   \n",
       "\n",
       "      internet_service_type_None  contract_type_One year  \\\n",
       "5919                           0                       1   \n",
       "1915                           0                       1   \n",
       "5054                           1                       0   \n",
       "2355                           1                       0   \n",
       "6279                           0                       1   \n",
       "...                          ...                     ...   \n",
       "394                            0                       0   \n",
       "3763                           0                       0   \n",
       "3444                           1                       0   \n",
       "1002                           0                       0   \n",
       "4192                           1                       0   \n",
       "\n",
       "      contract_type_Two year  \n",
       "5919                       0  \n",
       "1915                       0  \n",
       "5054                       0  \n",
       "2355                       0  \n",
       "6279                       0  \n",
       "...                      ...  \n",
       "394                        0  \n",
       "3763                       0  \n",
       "3444                       1  \n",
       "1002                       0  \n",
       "4192                       0  \n",
       "\n",
       "[3937 rows x 9 columns]"
      ]
     },
     "execution_count": 92,
     "metadata": {},
     "output_type": "execute_result"
    }
   ],
   "source": [
    "train"
   ]
  },
  {
   "cell_type": "code",
   "execution_count": 93,
   "id": "e97244d0",
   "metadata": {},
   "outputs": [
    {
     "data": {
      "text/plain": [
       "DecisionTreeClassifier(max_depth=3, random_state=42)"
      ]
     },
     "execution_count": 93,
     "metadata": {},
     "output_type": "execute_result"
    }
   ],
   "source": [
    "#fitting model\n",
    "clf.fit(x_train, y_train)"
   ]
  },
  {
   "cell_type": "code",
   "execution_count": 94,
   "id": "d0409f31",
   "metadata": {},
   "outputs": [
    {
     "data": {
      "image/png": "[encoded data removed]",
      "text/plain": [
       "<Figure size 2000x1400 with 1 Axes>"
      ]
     },
     "metadata": {},
     "output_type": "display_data"
    }
   ],
   "source": [
    "#showing model\n",
    "plt.figure(figsize=(20, 14))\n",
    "plot_tree(clf, feature_names= x_train.columns, class_names = np.array(clf.classes_).astype('str').tolist(), rounded = True)\n",
    "plt.show()"
   ]
  },
  {
   "cell_type": "code",
   "execution_count": 77,
   "id": "3343983a",
   "metadata": {},
   "outputs": [
    {
     "data": {
      "text/plain": [
       "array(['No', 'No', 'No', 'No', 'No', 'Yes', 'No', 'No', 'No', 'No', 'No',\n",
       "       'Yes', 'Yes', 'No', 'Yes', 'Yes', 'Yes', 'Yes', 'No', 'No', 'No',\n",
       "       'No', 'No', 'No', 'No', 'No', 'No', 'Yes', 'No', 'No', 'No', 'No',\n",
       "       'Yes', 'Yes', 'No', 'No', 'Yes', 'No', 'No', 'Yes', 'No', 'No',\n",
       "       'Yes', 'No', 'No', 'Yes', 'No', 'Yes', 'No', 'No', 'No', 'No',\n",
       "       'No', 'No', 'No', 'No', 'Yes', 'No', 'Yes', 'No', 'Yes', 'No',\n",
       "       'No', 'No', 'No', 'No', 'No', 'No', 'No', 'No', 'No', 'Yes', 'No',\n",
       "       'No', 'No', 'Yes', 'No', 'No', 'No', 'No', 'No', 'No', 'No', 'No',\n",
       "       'No', 'No', 'No', 'No', 'No', 'No', 'Yes', 'No', 'No', 'No', 'Yes',\n",
       "       'Yes', 'No', 'Yes', 'No', 'No'], dtype=object)"
      ]
     },
     "execution_count": 77,
     "metadata": {},
     "output_type": "execute_result"
    }
   ],
   "source": [
    "#making predictions\n",
    "y_pred = clf.predict(x_train)\n",
    "y_pred[0:100]"
   ]
  },
  {
   "cell_type": "code",
   "execution_count": 78,
   "id": "54fe3321",
   "metadata": {},
   "outputs": [
    {
     "name": "stdout",
     "output_type": "stream",
     "text": [
      "              precision    recall  f1-score   support\n",
      "\n",
      "          No       0.84      0.89      0.87      2891\n",
      "         Yes       0.65      0.53      0.58      1046\n",
      "\n",
      "    accuracy                           0.80      3937\n",
      "   macro avg       0.74      0.71      0.72      3937\n",
      "weighted avg       0.79      0.80      0.79      3937\n",
      "\n"
     ]
    }
   ],
   "source": [
    "print(classification_report(y_train, y_pred))"
   ]
  },
  {
   "cell_type": "code",
   "execution_count": 82,
   "id": "ebc4bdd9",
   "metadata": {},
   "outputs": [
    {
     "name": "stdout",
     "output_type": "stream",
     "text": [
      "              precision    recall  f1-score   support\n",
      "\n",
      "          No       0.83      0.87      0.85      1239\n",
      "         Yes       0.59      0.50      0.54       449\n",
      "\n",
      "    accuracy                           0.77      1688\n",
      "   macro avg       0.71      0.69      0.70      1688\n",
      "weighted avg       0.76      0.77      0.77      1688\n",
      "\n"
     ]
    }
   ],
   "source": [
    "# And since accuracy isn't everything\n",
    "\n",
    "# Produce y_predictions that come from the X_validate\n",
    "y_pred = clf.predict(x_val)\n",
    "\n",
    "# Compare actual y values (from validate) to predicted y_values from the model run on X_validate\n",
    "print(classification_report(y_val, y_pred))"
   ]
  },
  {
   "cell_type": "code",
   "execution_count": 36,
   "id": "flexible-irrigation",
   "metadata": {},
   "outputs": [],
   "source": [
    "# Import your prepare function and use it to clean your data here"
   ]
  },
  {
   "cell_type": "markdown",
   "id": "a638e011",
   "metadata": {},
   "source": [
    "### The Decision tree model is OK. It has 80% accuracy but has relatively low precision. I would prefer a model that has higher precision. than 60%. There may be other models that are better."
   ]
  },
  {
   "cell_type": "markdown",
   "id": "3819e932",
   "metadata": {},
   "source": [
    "# Random Forest model"
   ]
  },
  {
   "cell_type": "code",
   "execution_count": 95,
   "id": "24288ed7",
   "metadata": {},
   "outputs": [],
   "source": [
    "rf = RandomForestClassifier(bootstrap=True, \n",
    "                            class_weight=None, \n",
    "                            criterion='gini',\n",
    "                            min_samples_leaf=3,\n",
    "                            n_estimators=100,\n",
    "                            max_depth=3, \n",
    "                            random_state=123)"
   ]
  },
  {
   "cell_type": "code",
   "execution_count": 96,
   "id": "05af765a",
   "metadata": {},
   "outputs": [
    {
     "data": {
      "text/plain": [
       "RandomForestClassifier(max_depth=3, min_samples_leaf=3, random_state=123)"
      ]
     },
     "execution_count": 96,
     "metadata": {},
     "output_type": "execute_result"
    }
   ],
   "source": [
    "rf.fit(x_train, y_train)"
   ]
  },
  {
   "cell_type": "code",
   "execution_count": 97,
   "id": "783f373c",
   "metadata": {},
   "outputs": [
    {
     "data": {
      "text/plain": [
       "RandomForestClassifier(max_depth=3, min_samples_leaf=3, random_state=123)"
      ]
     },
     "execution_count": 97,
     "metadata": {},
     "output_type": "execute_result"
    }
   ],
   "source": [
    "RandomForestClassifier(max_depth=3, min_samples_leaf=3, random_state=123)\n"
   ]
  },
  {
   "cell_type": "code",
   "execution_count": 98,
   "id": "d46fca40",
   "metadata": {},
   "outputs": [
    {
     "name": "stdout",
     "output_type": "stream",
     "text": [
      "[0.22993951 0.08896491 0.05886807 0.06792464 0.2232545  0.06116931\n",
      " 0.07576883 0.19411022]\n"
     ]
    }
   ],
   "source": [
    "print(rf.feature_importances_)\n",
    "y_pred = rf.predict(x_train)\n"
   ]
  },
  {
   "cell_type": "code",
   "execution_count": 99,
   "id": "973400ca",
   "metadata": {},
   "outputs": [],
   "source": [
    "y_pred_proba = rf.predict_proba(x_train)"
   ]
  },
  {
   "cell_type": "code",
   "execution_count": 100,
   "id": "6706df95",
   "metadata": {},
   "outputs": [
    {
     "name": "stdout",
     "output_type": "stream",
     "text": [
      "              precision    recall  f1-score   support\n",
      "\n",
      "          No       0.81      0.95      0.87      2891\n",
      "         Yes       0.72      0.38      0.50      1046\n",
      "\n",
      "    accuracy                           0.80      3937\n",
      "   macro avg       0.77      0.66      0.69      3937\n",
      "weighted avg       0.79      0.80      0.77      3937\n",
      "\n"
     ]
    }
   ],
   "source": [
    "print(classification_report(y_train, y_pred))\n"
   ]
  },
  {
   "cell_type": "code",
   "execution_count": 106,
   "id": "6f9134e6",
   "metadata": {},
   "outputs": [
    {
     "name": "stdout",
     "output_type": "stream",
     "text": [
      "              precision    recall  f1-score   support\n",
      "\n",
      "          No       0.80      0.92      0.86      1239\n",
      "         Yes       0.62      0.35      0.45       449\n",
      "\n",
      "    accuracy                           0.77      1688\n",
      "   macro avg       0.71      0.64      0.65      1688\n",
      "weighted avg       0.75      0.77      0.75      1688\n",
      "\n"
     ]
    }
   ],
   "source": [
    "y_pred = rf.predict(x_val)\n",
    "print(classification_report(y_val, y_pred))"
   ]
  },
  {
   "cell_type": "markdown",
   "id": "20dbccf3",
   "metadata": {},
   "source": [
    "### The Random Forest model is a little better than the decision tree model."
   ]
  },
  {
   "cell_type": "markdown",
   "id": "9fd5afc8",
   "metadata": {},
   "source": [
    "# KNN model"
   ]
  },
  {
   "cell_type": "code",
   "execution_count": 103,
   "id": "1ba1406d",
   "metadata": {},
   "outputs": [],
   "source": [
    "knn = KNeighborsClassifier(n_neighbors=5, weights='uniform')\n",
    "knn.fit(x_train, y_train)\n",
    "y_pred = knn.predict(x_train)\n",
    "y_pred_proba = knn.predict_proba(x_train)"
   ]
  },
  {
   "cell_type": "code",
   "execution_count": 104,
   "id": "4dc10097",
   "metadata": {},
   "outputs": [
    {
     "name": "stdout",
     "output_type": "stream",
     "text": [
      "              precision    recall  f1-score   support\n",
      "\n",
      "          No       0.87      0.92      0.89      2891\n",
      "         Yes       0.74      0.61      0.67      1046\n",
      "\n",
      "    accuracy                           0.84      3937\n",
      "   macro avg       0.80      0.77      0.78      3937\n",
      "weighted avg       0.83      0.84      0.83      3937\n",
      "\n"
     ]
    }
   ],
   "source": [
    "print(classification_report(y_train, y_pred))"
   ]
  },
  {
   "cell_type": "code",
   "execution_count": 107,
   "id": "749e76d3",
   "metadata": {},
   "outputs": [
    {
     "name": "stdout",
     "output_type": "stream",
     "text": [
      "              precision    recall  f1-score   support\n",
      "\n",
      "          No       0.82      0.86      0.84      1239\n",
      "         Yes       0.56      0.50      0.53       449\n",
      "\n",
      "    accuracy                           0.76      1688\n",
      "   macro avg       0.69      0.68      0.68      1688\n",
      "weighted avg       0.75      0.76      0.76      1688\n",
      "\n"
     ]
    }
   ],
   "source": [
    "y_pred = knn.predict(x_val)\n",
    "print(classification_report(y_val, y_pred))"
   ]
  },
  {
   "cell_type": "code",
   "execution_count": null,
   "id": "f4cfb962",
   "metadata": {},
   "outputs": [],
   "source": []
  },
  {
   "cell_type": "code",
   "execution_count": null,
   "id": "cceaa700",
   "metadata": {},
   "outputs": [],
   "source": []
  },
  {
   "cell_type": "code",
   "execution_count": null,
   "id": "2265582b",
   "metadata": {},
   "outputs": [],
   "source": []
  },
  {
   "cell_type": "markdown",
   "id": "immediate-mirror",
   "metadata": {},
   "source": [
    "## Explore\n",
    "\n",
    "* Here you will explore your data then highlight 4 questions that you asked of the data and how those questions influanced your analysis\n",
    "* Remember to split your data before exploring how differint variables relate to one another\n",
    "* Each question should be stated directly \n",
    "* Each question should be supported by a vizualization\n",
    "* Each question should be answered in natural language\n",
    "* Two questions must be supported by a statistical test, but you may choose to support more than two\n",
    "* See the following example, and read the comments in the next cell"
   ]
  },
  {
   "cell_type": "markdown",
   "id": "functional-sierra",
   "metadata": {},
   "source": [
    "The following empty code block is here to represent the countless questions, visualizations, and statistical tests \n",
    "that did not make your final report. Data scientist often create a myriad of questions, vizualizations \n",
    "and statistical tests that do not make it into the final notebook. This is okay and expected. Remember \n",
    "that shotgun approches to your data such as using pair plots to look at the relationships of each feature \n",
    "pair are a great way to explore your data, but they have no place in your final report. \n",
    "**Your final report is about showing your findings, not showing your work!**"
   ]
  },
  {
   "cell_type": "code",
   "execution_count": null,
   "id": "approximate-thong",
   "metadata": {},
   "outputs": [],
   "source": [
    "\n",
    "\n",
    "\n"
   ]
  },
  {
   "cell_type": "markdown",
   "id": "incorrect-mailman",
   "metadata": {},
   "source": [
    "## You may use this as a templet for how to ask and answer each question:"
   ]
  },
  {
   "cell_type": "markdown",
   "id": "overhead-sleep",
   "metadata": {},
   "source": [
    "### 1) Question about the data\n",
    "* ask a question about the data for which you got a meaningful result.\n",
    "\n",
    "### 2) Vizualization of the data answering the question\n",
    "\n",
    "* vizualizations should be acompanied by take-aways telling the reader exaclty what you want them to get from the chart\n",
    "* Good take-aways often make for good chart titles. Try to use your chart title instead of bullet points.\n",
    "\n",
    "### 3) Statistical test\n",
    "* Be sure you are using the correct statistical test for the type of variables you are testing\n",
    "* be sure that you are not violating any of the asumptions for the statistical test you are choosing\n",
    "* your notebook should run and produce the results of the test you are using (This may be done through imports)\n",
    "* Include an introduction to the kind of test you are doing\n",
    "* Include the Ho and Ha for the test\n",
    "* Include the alpha you are using\n",
    "* Include the readout of the p-value for the test\n",
    "* Interpret the results of the test in natural language \n",
    "\n",
    "### 4) Answer to the question\n",
    "* Answer the question that you posed of the data by refering to the chart and statistical test (if you used one).\n",
    "* if question relates to drivers, explain why the feature in question would/wouldn't make a good driver."
   ]
  },
  {
   "cell_type": "markdown",
   "id": "iraqi-sellers",
   "metadata": {},
   "source": [
    "## Exploration Summery\n",
    "* after your explore section before you start modeling provide a summary of your findings in Explore\n",
    "* Include a summery of your take-aways from Explore including answers to the questions you asked\n",
    "* Include a summery of the features you examined and weather or not you will be going to Modeling with each feature and why\n",
    "* It is important to note which features will be going into your model so the reader knows what features you will be modeling on\n"
   ]
  },
  {
   "cell_type": "markdown",
   "id": "minus-tulsa",
   "metadata": {},
   "source": [
    "## Modeling"
   ]
  },
  {
   "cell_type": "markdown",
   "id": "hydraulic-spectrum",
   "metadata": {},
   "source": [
    "* Explain how you will be evauating your models. Be sure to include the evaluation metric you will be using and why you have chosen it"
   ]
  },
  {
   "cell_type": "markdown",
   "id": "random-casino",
   "metadata": {},
   "source": [
    "### Baseline \n",
    "* create a baseline and briefly explain how it was calculated "
   ]
  },
  {
   "cell_type": "code",
   "execution_count": 37,
   "id": "ranging-rebecca",
   "metadata": {},
   "outputs": [],
   "source": [
    "# If your baseline comes from a model run the model here and show it's results"
   ]
  },
  {
   "cell_type": "markdown",
   "id": "emotional-purchase",
   "metadata": {},
   "source": [
    "### Best 3 Models\n",
    "* Show the three best model results obtained using your selected features to predict the target variable\n",
    "* Tipically students will show the top models they are able to generate for three differint model types"
   ]
  },
  {
   "cell_type": "markdown",
   "id": "gentle-capability",
   "metadata": {},
   "source": [
    "## You may use this as a templet for how to introduce your models:"
   ]
  },
  {
   "cell_type": "markdown",
   "id": "intensive-vietnamese",
   "metadata": {},
   "source": [
    "### Model Type"
   ]
  },
  {
   "cell_type": "code",
   "execution_count": 38,
   "id": "colonial-newport",
   "metadata": {},
   "outputs": [],
   "source": [
    "# code that runs the best model in that model type (this mad be imported from a module)"
   ]
  },
  {
   "cell_type": "markdown",
   "id": "distinguished-abuse",
   "metadata": {},
   "source": [
    "Print out of model code should read: <br>\n",
    "\"Model Type\" <br>\n",
    "\"evaluation metric\" on train: \"evaluation result\" <br>\n",
    "\"evaluation metric\" on validate: \"evaluation result\""
   ]
  },
  {
   "cell_type": "markdown",
   "id": "regulated-fellowship",
   "metadata": {},
   "source": [
    "### Test Model\n",
    "* Choose the best model out of the three as yout best model and explain why you have chosen it\n",
    "* Explain that you will now run your final model on test data to guage how it will perform on unseen data\n"
   ]
  },
  {
   "cell_type": "code",
   "execution_count": 39,
   "id": "optical-quilt",
   "metadata": {},
   "outputs": [],
   "source": [
    "# Code that runs the best overall model on test data (this may be imported from a module)"
   ]
  },
  {
   "cell_type": "markdown",
   "id": "motivated-recycling",
   "metadata": {},
   "source": [
    "Print out of model code should read: <br>\n",
    "\"Model Type\" <br>\n",
    "\"evaluation metric\" on Test: \"evaluation result\" <br>"
   ]
  },
  {
   "cell_type": "markdown",
   "id": "bright-evans",
   "metadata": {},
   "source": [
    "### Modeling Wrap \n",
    "* Give a final interpritation of how the models test score compares to the baseline and weather you would recomend this model for production"
   ]
  },
  {
   "cell_type": "markdown",
   "id": "tutorial-twelve",
   "metadata": {},
   "source": [
    "## Conclution\n",
    "\n",
    "### Summery\n",
    "* summerize you findings and answer the questions you brought up in explore \n",
    "* summerize how drivers discovered lead or did not lead to a successful model \n",
    "\n",
    "### Recommendations\n",
    "* Recommendations are actions the stakeholder should take based on your insights\n",
    "\n",
    "### Next Steps\n",
    "* Nest Steps are what you as a Data Scientist would do if provided more time to work on the project"
   ]
  },
  {
   "cell_type": "markdown",
   "id": "tender-source",
   "metadata": {},
   "source": [
    "**Where there is code in your report there should also be code comments telling the reader what each code block is doing. this is ture for any and all code blocks even if you are using a function to import the code**"
   ]
  },
  {
   "cell_type": "markdown",
   "id": "prime-giving",
   "metadata": {},
   "source": [
    "**Your Notebook should contain adequate markdown that documents your thought process, decision making, and navigation through the pipeline. As a Data Scientist your job is not only to make discoveries but to effectivly communicate them as well. This means documintation is a critical part of your job.**"
   ]
  }
 ],
 "metadata": {
  "kernelspec": {
   "display_name": "Python 3 (ipykernel)",
   "language": "python",
   "name": "python3"
  },
  "language_info": {
   "codemirror_mode": {
    "name": "ipython",
    "version": 3
   },
   "file_extension": ".py",
   "mimetype": "text/x-python",
   "name": "python",
   "nbconvert_exporter": "python",
   "pygments_lexer": "ipython3",
   "version": "3.9.13"
  }
 },
 "nbformat": 4,
 "nbformat_minor": 5
}
