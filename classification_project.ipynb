{
 "cells": [
  {
   "cell_type": "markdown",
   "id": "premier-milan",
   "metadata": {},
   "source": [
    "# Customer Churn Factors\n",
    "\n",
    "Telco is a world renowned telecommunications company that provides phone, internet, and streaming services to their customers. As technology evolves, so does the company's business model. In order to stay up to date on current market trends and ensuring the satisfaction of our customers, it is necessary to analyze customer data. As you will soon see, there may be some factors that influence customer churn that can be remediated to keep customers with the company.  Different models are ran to determine what factors have the greatest influence on customer churn and the results will hopefully spark discussion on how to decrease customer churn."
   ]
  },
  {
   "cell_type": "markdown",
   "id": "going-assembly",
   "metadata": {},
   "source": [
    "## Imports"
   ]
  },
  {
   "cell_type": "code",
   "execution_count": 1,
   "id": "divided-poster",
   "metadata": {},
   "outputs": [],
   "source": [
    "import pandas as pd\n",
    "import numpy as np\n",
    "\n",
    "import matplotlib.pyplot as plt\n",
    "import seaborn as sns\n",
    "import os\n",
    "\n",
    "from sklearn.model_selection import train_test_split\n",
    "import sklearn.preprocessing\n",
    "from sklearn.tree import DecisionTreeClassifier\n",
    "from sklearn.ensemble import RandomForestClassifier\n",
    "from sklearn.neighbors import KNeighborsClassifier\n",
    "from sklearn.linear_model import LogisticRegression\n",
    "from sklearn.tree import DecisionTreeClassifier, plot_tree\n",
    "\n",
    "import warnings\n",
    "warnings.filterwarnings(\"ignore\")\n",
    "\n",
    "from scipy import stats\n",
    "import acquire\n",
    "import prepare"
   ]
  },
  {
   "cell_type": "markdown",
   "id": "criminal-glory",
   "metadata": {},
   "source": [
    "## Acquire\n",
    "\n",
    "* Accquired data from noether sequal server\n",
    "* data obtained 1/2/2023\n",
    "* 7043 rows by 24 columns before cleaning\n",
    "* Each row represents a customer\n",
    "* Each column represents a demograhic or service type information\n"
   ]
  },
  {
   "cell_type": "markdown",
   "id": "cc62fd5b",
   "metadata": {},
   "source": []
  },
  {
   "cell_type": "code",
   "execution_count": 2,
   "id": "835c340e",
   "metadata": {},
   "outputs": [],
   "source": [
    "telco = acquire.get_telco_data() #acquiring data from server and assigning it to a variable\n"
   ]
  },
  {
   "cell_type": "code",
   "execution_count": 15,
   "id": "a9e2d921",
   "metadata": {},
   "outputs": [
    {
     "data": {
      "text/html": [
       "<div>\n",
       "<style scoped>\n",
       "    .dataframe tbody tr th:only-of-type {\n",
       "        vertical-align: middle;\n",
       "    }\n",
       "\n",
       "    .dataframe tbody tr th {\n",
       "        vertical-align: top;\n",
       "    }\n",
       "\n",
       "    .dataframe thead th {\n",
       "        text-align: right;\n",
       "    }\n",
       "</style>\n",
       "<table border=\"1\" class=\"dataframe\">\n",
       "  <thead>\n",
       "    <tr style=\"text-align: right;\">\n",
       "      <th></th>\n",
       "      <th>Unnamed: 0</th>\n",
       "      <th>customer_id</th>\n",
       "      <th>gender</th>\n",
       "      <th>senior_citizen</th>\n",
       "      <th>partner</th>\n",
       "      <th>dependents</th>\n",
       "      <th>tenure</th>\n",
       "      <th>phone_service</th>\n",
       "      <th>multiple_lines</th>\n",
       "      <th>internet_service_type_id</th>\n",
       "      <th>...</th>\n",
       "      <th>streaming_movies</th>\n",
       "      <th>contract_type_id</th>\n",
       "      <th>paperless_billing</th>\n",
       "      <th>payment_type_id</th>\n",
       "      <th>monthly_charges</th>\n",
       "      <th>total_charges</th>\n",
       "      <th>churn</th>\n",
       "      <th>internet_service_type</th>\n",
       "      <th>contract_type</th>\n",
       "      <th>payment_type</th>\n",
       "    </tr>\n",
       "  </thead>\n",
       "  <tbody>\n",
       "    <tr>\n",
       "      <th>0</th>\n",
       "      <td>0</td>\n",
       "      <td>0002-ORFBO</td>\n",
       "      <td>Female</td>\n",
       "      <td>0</td>\n",
       "      <td>Yes</td>\n",
       "      <td>Yes</td>\n",
       "      <td>9</td>\n",
       "      <td>Yes</td>\n",
       "      <td>No</td>\n",
       "      <td>1</td>\n",
       "      <td>...</td>\n",
       "      <td>No</td>\n",
       "      <td>2</td>\n",
       "      <td>Yes</td>\n",
       "      <td>2</td>\n",
       "      <td>65.6</td>\n",
       "      <td>593.3</td>\n",
       "      <td>No</td>\n",
       "      <td>DSL</td>\n",
       "      <td>One year</td>\n",
       "      <td>Mailed check</td>\n",
       "    </tr>\n",
       "    <tr>\n",
       "      <th>1</th>\n",
       "      <td>1</td>\n",
       "      <td>0003-MKNFE</td>\n",
       "      <td>Male</td>\n",
       "      <td>0</td>\n",
       "      <td>No</td>\n",
       "      <td>No</td>\n",
       "      <td>9</td>\n",
       "      <td>Yes</td>\n",
       "      <td>Yes</td>\n",
       "      <td>1</td>\n",
       "      <td>...</td>\n",
       "      <td>Yes</td>\n",
       "      <td>1</td>\n",
       "      <td>No</td>\n",
       "      <td>2</td>\n",
       "      <td>59.9</td>\n",
       "      <td>542.4</td>\n",
       "      <td>No</td>\n",
       "      <td>DSL</td>\n",
       "      <td>Month-to-month</td>\n",
       "      <td>Mailed check</td>\n",
       "    </tr>\n",
       "    <tr>\n",
       "      <th>2</th>\n",
       "      <td>2</td>\n",
       "      <td>0004-TLHLJ</td>\n",
       "      <td>Male</td>\n",
       "      <td>0</td>\n",
       "      <td>No</td>\n",
       "      <td>No</td>\n",
       "      <td>4</td>\n",
       "      <td>Yes</td>\n",
       "      <td>No</td>\n",
       "      <td>2</td>\n",
       "      <td>...</td>\n",
       "      <td>No</td>\n",
       "      <td>1</td>\n",
       "      <td>Yes</td>\n",
       "      <td>1</td>\n",
       "      <td>73.9</td>\n",
       "      <td>280.85</td>\n",
       "      <td>Yes</td>\n",
       "      <td>Fiber optic</td>\n",
       "      <td>Month-to-month</td>\n",
       "      <td>Electronic check</td>\n",
       "    </tr>\n",
       "    <tr>\n",
       "      <th>3</th>\n",
       "      <td>3</td>\n",
       "      <td>0011-IGKFF</td>\n",
       "      <td>Male</td>\n",
       "      <td>1</td>\n",
       "      <td>Yes</td>\n",
       "      <td>No</td>\n",
       "      <td>13</td>\n",
       "      <td>Yes</td>\n",
       "      <td>No</td>\n",
       "      <td>2</td>\n",
       "      <td>...</td>\n",
       "      <td>Yes</td>\n",
       "      <td>1</td>\n",
       "      <td>Yes</td>\n",
       "      <td>1</td>\n",
       "      <td>98.0</td>\n",
       "      <td>1237.85</td>\n",
       "      <td>Yes</td>\n",
       "      <td>Fiber optic</td>\n",
       "      <td>Month-to-month</td>\n",
       "      <td>Electronic check</td>\n",
       "    </tr>\n",
       "    <tr>\n",
       "      <th>4</th>\n",
       "      <td>4</td>\n",
       "      <td>0013-EXCHZ</td>\n",
       "      <td>Female</td>\n",
       "      <td>1</td>\n",
       "      <td>Yes</td>\n",
       "      <td>No</td>\n",
       "      <td>3</td>\n",
       "      <td>Yes</td>\n",
       "      <td>No</td>\n",
       "      <td>2</td>\n",
       "      <td>...</td>\n",
       "      <td>No</td>\n",
       "      <td>1</td>\n",
       "      <td>Yes</td>\n",
       "      <td>2</td>\n",
       "      <td>83.9</td>\n",
       "      <td>267.4</td>\n",
       "      <td>Yes</td>\n",
       "      <td>Fiber optic</td>\n",
       "      <td>Month-to-month</td>\n",
       "      <td>Mailed check</td>\n",
       "    </tr>\n",
       "  </tbody>\n",
       "</table>\n",
       "<p>5 rows × 25 columns</p>\n",
       "</div>"
      ],
      "text/plain": [
       "   Unnamed: 0 customer_id  gender  senior_citizen partner dependents  tenure  \\\n",
       "0           0  0002-ORFBO  Female               0     Yes        Yes       9   \n",
       "1           1  0003-MKNFE    Male               0      No         No       9   \n",
       "2           2  0004-TLHLJ    Male               0      No         No       4   \n",
       "3           3  0011-IGKFF    Male               1     Yes         No      13   \n",
       "4           4  0013-EXCHZ  Female               1     Yes         No       3   \n",
       "\n",
       "  phone_service multiple_lines  internet_service_type_id  ...  \\\n",
       "0           Yes             No                         1  ...   \n",
       "1           Yes            Yes                         1  ...   \n",
       "2           Yes             No                         2  ...   \n",
       "3           Yes             No                         2  ...   \n",
       "4           Yes             No                         2  ...   \n",
       "\n",
       "  streaming_movies contract_type_id paperless_billing payment_type_id  \\\n",
       "0               No                2               Yes               2   \n",
       "1              Yes                1                No               2   \n",
       "2               No                1               Yes               1   \n",
       "3              Yes                1               Yes               1   \n",
       "4               No                1               Yes               2   \n",
       "\n",
       "  monthly_charges total_charges  churn internet_service_type   contract_type  \\\n",
       "0            65.6         593.3     No                   DSL        One year   \n",
       "1            59.9         542.4     No                   DSL  Month-to-month   \n",
       "2            73.9        280.85    Yes           Fiber optic  Month-to-month   \n",
       "3            98.0       1237.85    Yes           Fiber optic  Month-to-month   \n",
       "4            83.9         267.4    Yes           Fiber optic  Month-to-month   \n",
       "\n",
       "       payment_type  \n",
       "0      Mailed check  \n",
       "1      Mailed check  \n",
       "2  Electronic check  \n",
       "3  Electronic check  \n",
       "4      Mailed check  \n",
       "\n",
       "[5 rows x 25 columns]"
      ]
     },
     "execution_count": 15,
     "metadata": {},
     "output_type": "execute_result"
    }
   ],
   "source": [
    "telco.head() # a brief look at the data"
   ]
  },
  {
   "cell_type": "code",
   "execution_count": 17,
   "id": "680596f2",
   "metadata": {},
   "outputs": [],
   "source": [
    "service1 = telco[telco['internet_service_type'] == 'DSL']\n",
    "service2 = telco[telco['internet_service_type'] == 'Fiber optic']\n",
    "service3 = telco[telco['internet_service_type'] == 'None']\n"
   ]
  },
  {
   "cell_type": "code",
   "execution_count": 23,
   "id": "9e4dba3d",
   "metadata": {},
   "outputs": [],
   "source": [
    "servicechurn1 = service1[service1['churn'] == 'No']\n",
    "servicechurn2 = service2[service2['churn'] == 'No']\n",
    "servicechurn3 = service3[service3['churn'] == 'No']"
   ]
  },
  {
   "cell_type": "code",
   "execution_count": 28,
   "id": "9657fa87",
   "metadata": {},
   "outputs": [],
   "source": [
    "DSL = np.array([459, 1962])\n",
    "Fiber_optic = np.array([1297, 1799])\n",
    "nointernet = np.array([113, 1413])"
   ]
  },
  {
   "cell_type": "markdown",
   "id": "52b0ff5b",
   "metadata": {},
   "source": [
    "# Explore"
   ]
  },
  {
   "cell_type": "code",
   "execution_count": 4,
   "id": "3c047dc5",
   "metadata": {},
   "outputs": [],
   "source": [
    "churned = telco[telco['churn'] == 'Yes'] #1869"
   ]
  },
  {
   "cell_type": "code",
   "execution_count": 5,
   "id": "9cc5093f",
   "metadata": {},
   "outputs": [],
   "source": [
    "churned = telco[telco['churn'] == 'No'] #5174"
   ]
  },
  {
   "cell_type": "code",
   "execution_count": 10,
   "id": "e901e2db",
   "metadata": {},
   "outputs": [],
   "source": [
    "y = np.array([1869, 5174])\n",
    "mylabels = ['churned', 'not churned']"
   ]
  },
  {
   "cell_type": "code",
   "execution_count": 32,
   "id": "be0ea05c",
   "metadata": {},
   "outputs": [
    {
     "data": {
      "text/plain": [
       "Text(0.5, 1.0, 'churn rate')"
      ]
     },
     "execution_count": 32,
     "metadata": {},
     "output_type": "execute_result"
    },
    {
     "data": {
      "image/png": "[encoded data removed]",
      "text/plain": [
       "<Figure size 640x480 with 1 Axes>"
      ]
     },
     "metadata": {},
     "output_type": "display_data"
    }
   ],
   "source": [
    "plt.pie(y, labels = mylabels)\n",
    "plt.title('churn rate')"
   ]
  },
  {
   "cell_type": "code",
   "execution_count": null,
   "id": "d8f87d59",
   "metadata": {},
   "outputs": [],
   "source": [
    "DSL = np.array([459, 1962])\n",
    "Fiber_optic = np.array([1297, 1799])\n",
    "nointernet = np.array([113, 1413])"
   ]
  },
  {
   "cell_type": "code",
   "execution_count": 33,
   "id": "773e4a47",
   "metadata": {},
   "outputs": [
    {
     "data": {
      "text/plain": [
       "Text(0.5, 1.0, 'DSL Churn Rate')"
      ]
     },
     "execution_count": 33,
     "metadata": {},
     "output_type": "execute_result"
    },
    {
     "data": {
      "image/png": "[encoded data removed]",
      "text/plain": [
       "<Figure size 640x480 with 1 Axes>"
      ]
     },
     "metadata": {},
     "output_type": "display_data"
    }
   ],
   "source": [
    "plt.pie(DSL, labels = mylabels)\n",
    "plt.title('DSL Churn Rate')"
   ]
  },
  {
   "cell_type": "code",
   "execution_count": 34,
   "id": "d7fe4d87",
   "metadata": {},
   "outputs": [
    {
     "data": {
      "text/plain": [
       "Text(0.5, 1.0, 'Fiber Optic Churn Rate')"
      ]
     },
     "execution_count": 34,
     "metadata": {},
     "output_type": "execute_result"
    },
    {
     "data": {
      "image/png": "[encoded data removed]",
      "text/plain": [
       "<Figure size 640x480 with 1 Axes>"
      ]
     },
     "metadata": {},
     "output_type": "display_data"
    }
   ],
   "source": [
    "plt.pie(Fiber_optic, labels = mylabels)\n",
    "plt.title('Fiber Optic Churn Rate')"
   ]
  },
  {
   "cell_type": "code",
   "execution_count": 35,
   "id": "bd8d2ce2",
   "metadata": {},
   "outputs": [
    {
     "data": {
      "text/plain": [
       "Text(0.5, 1.0, 'No Internet Churn Rate')"
      ]
     },
     "execution_count": 35,
     "metadata": {},
     "output_type": "execute_result"
    },
    {
     "data": {
      "image/png": "[encoded data removed]",
      "text/plain": [
       "<Figure size 640x480 with 1 Axes>"
      ]
     },
     "metadata": {},
     "output_type": "display_data"
    }
   ],
   "source": [
    "plt.pie(nointernet, labels = mylabels)\n",
    "plt.title(\"No Internet Churn Rate\")"
   ]
  },
  {
   "cell_type": "code",
   "execution_count": null,
   "id": "79b42241",
   "metadata": {},
   "outputs": [],
   "source": []
  },
  {
   "cell_type": "code",
   "execution_count": null,
   "id": "8efa05b9",
   "metadata": {},
   "outputs": [],
   "source": []
  },
  {
   "cell_type": "code",
   "execution_count": null,
   "id": "f0324ddd",
   "metadata": {},
   "outputs": [],
   "source": []
  },
  {
   "cell_type": "markdown",
   "id": "33b27b78",
   "metadata": {},
   "source": [
    "## Prepare\n",
    "* Removed columns that did not contain useful information\n",
    "* Checked for nulls in the data and removed them\n",
    "* Eliminated rows that did have a space as a value in their total_charges column\n",
    "* Changed total_charges column object to float\n",
    "* Added dummy variables for categorical variables\n",
    "* Split data into train, validate and test (approx. 60/25/15), stratifying on 'churn'\n",
    "* Scaled continuous variable\n",
    "* Outliers have not been removed for this iteration of the project"
   ]
  },
  {
   "cell_type": "code",
   "execution_count": null,
   "id": "655e762f",
   "metadata": {},
   "outputs": [],
   "source": [
    "telco = prepare.prep_classification_project(telco) #function prepares data"
   ]
  },
  {
   "cell_type": "markdown",
   "id": "22128345",
   "metadata": {},
   "source": [
    "## A quick look at the data\n"
   ]
  },
  {
   "cell_type": "code",
   "execution_count": null,
   "id": "d3fb3eaf",
   "metadata": {},
   "outputs": [],
   "source": [
    "telco.head() #prints the first 5 rows of the cleaned dataset"
   ]
  },
  {
   "cell_type": "markdown",
   "id": "1ffcb75d",
   "metadata": {},
   "source": [
    "## A summary of the data"
   ]
  },
  {
   "cell_type": "code",
   "execution_count": null,
   "id": "e055568a",
   "metadata": {},
   "outputs": [],
   "source": [
    "telco.describe() #statistical description of each of the numerical value columns"
   ]
  },
  {
   "cell_type": "code",
   "execution_count": null,
   "id": "9e118d8e",
   "metadata": {},
   "outputs": [],
   "source": [
    "#splits data into train, validate, and test variables\n",
    "train, test = train_test_split(telco, test_size=.2, random_state=123, stratify=telco.churn)\n",
    "train, validate = train_test_split(train, test_size=.3, random_state=123, stratify=train.churn)"
   ]
  },
  {
   "cell_type": "code",
   "execution_count": null,
   "id": "e731414a",
   "metadata": {},
   "outputs": [],
   "source": [
    "#verifying that data was split correctly \n",
    "print(f'train -> {train.shape}')\n",
    "print(f'validate -> {validate.shape}')\n",
    "print(f'test -> {test.shape}')"
   ]
  },
  {
   "cell_type": "code",
   "execution_count": null,
   "id": "be200fb4",
   "metadata": {},
   "outputs": [],
   "source": [
    "# preparing variables to fit into decision tree model statifying churn\n",
    "x_train = train.drop(columns = ['churn'])\n",
    "y_train = train['churn']\n",
    "\n",
    "x_val = validate.drop(columns = ['churn'])\n",
    "y_val = validate['churn']\n",
    "\n",
    "x_test = test.drop(columns = ['churn'])\n",
    "y_test = test['churn']"
   ]
  },
  {
   "cell_type": "code",
   "execution_count": null,
   "id": "b7fe5c5d",
   "metadata": {},
   "outputs": [],
   "source": [
    "#calling model\n",
    "seed = 42\n",
    "clf = DecisionTreeClassifier(max_depth = 3, random_state = 42)"
   ]
  },
  {
   "cell_type": "code",
   "execution_count": null,
   "id": "e97244d0",
   "metadata": {},
   "outputs": [],
   "source": [
    "#fitting model\n",
    "clf.fit(x_train, y_train)"
   ]
  },
  {
   "cell_type": "code",
   "execution_count": null,
   "id": "d0409f31",
   "metadata": {},
   "outputs": [],
   "source": [
    "#showing model\n",
    "plt.figure(figsize=(20, 14))\n",
    "plot_tree(clf, feature_names= x_train.columns, class_names = np.array(clf.classes_).astype('str').tolist(), rounded = True)\n",
    "plt.show()"
   ]
  },
  {
   "cell_type": "code",
   "execution_count": null,
   "id": "flexible-irrigation",
   "metadata": {},
   "outputs": [],
   "source": [
    "# Import your prepare function and use it to clean your data here"
   ]
  },
  {
   "cell_type": "markdown",
   "id": "immediate-mirror",
   "metadata": {},
   "source": [
    "## Explore\n",
    "\n",
    "* Here you will explore your data then highlight 4 questions that you asked of the data and how those questions influanced your analysis\n",
    "* Remember to split your data before exploring how differint variables relate to one another\n",
    "* Each question should be stated directly \n",
    "* Each question should be supported by a vizualization\n",
    "* Each question should be answered in natural language\n",
    "* Two questions must be supported by a statistical test, but you may choose to support more than two\n",
    "* See the following example, and read the comments in the next cell"
   ]
  },
  {
   "cell_type": "markdown",
   "id": "functional-sierra",
   "metadata": {},
   "source": [
    "The following empty code block is here to represent the countless questions, visualizations, and statistical tests \n",
    "that did not make your final report. Data scientist often create a myriad of questions, vizualizations \n",
    "and statistical tests that do not make it into the final notebook. This is okay and expected. Remember \n",
    "that shotgun approches to your data such as using pair plots to look at the relationships of each feature \n",
    "pair are a great way to explore your data, but they have no place in your final report. \n",
    "**Your final report is about showing your findings, not showing your work!**"
   ]
  },
  {
   "cell_type": "code",
   "execution_count": null,
   "id": "approximate-thong",
   "metadata": {},
   "outputs": [],
   "source": [
    "\n",
    "\n",
    "\n"
   ]
  },
  {
   "cell_type": "markdown",
   "id": "incorrect-mailman",
   "metadata": {},
   "source": [
    "## You may use this as a templet for how to ask and answer each question:"
   ]
  },
  {
   "cell_type": "markdown",
   "id": "overhead-sleep",
   "metadata": {},
   "source": [
    "### 1) Question about the data\n",
    "* ask a question about the data for which you got a meaningful result.\n",
    "\n",
    "### 2) Vizualization of the data answering the question\n",
    "\n",
    "* vizualizations should be acompanied by take-aways telling the reader exaclty what you want them to get from the chart\n",
    "* Good take-aways often make for good chart titles. Try to use your chart title instead of bullet points.\n",
    "\n",
    "### 3) Statistical test\n",
    "* Be sure you are using the correct statistical test for the type of variables you are testing\n",
    "* be sure that you are not violating any of the asumptions for the statistical test you are choosing\n",
    "* your notebook should run and produce the results of the test you are using (This may be done through imports)\n",
    "* Include an introduction to the kind of test you are doing\n",
    "* Include the Ho and Ha for the test\n",
    "* Include the alpha you are using\n",
    "* Include the readout of the p-value for the test\n",
    "* Interpret the results of the test in natural language \n",
    "\n",
    "### 4) Answer to the question\n",
    "* Answer the question that you posed of the data by refering to the chart and statistical test (if you used one).\n",
    "* if question relates to drivers, explain why the feature in question would/wouldn't make a good driver."
   ]
  },
  {
   "cell_type": "markdown",
   "id": "iraqi-sellers",
   "metadata": {},
   "source": [
    "## Exploration Summery\n",
    "* after your explore section before you start modeling provide a summary of your findings in Explore\n",
    "* Include a summery of your take-aways from Explore including answers to the questions you asked\n",
    "* Include a summery of the features you examined and weather or not you will be going to Modeling with each feature and why\n",
    "* It is important to note which features will be going into your model so the reader knows what features you will be modeling on\n"
   ]
  },
  {
   "cell_type": "markdown",
   "id": "minus-tulsa",
   "metadata": {},
   "source": [
    "## Modeling"
   ]
  },
  {
   "cell_type": "markdown",
   "id": "hydraulic-spectrum",
   "metadata": {},
   "source": [
    "* Explain how you will be evauating your models. Be sure to include the evaluation metric you will be using and why you have chosen it"
   ]
  },
  {
   "cell_type": "markdown",
   "id": "random-casino",
   "metadata": {},
   "source": [
    "### Baseline \n",
    "* create a baseline and briefly explain how it was calculated "
   ]
  },
  {
   "cell_type": "code",
   "execution_count": null,
   "id": "ranging-rebecca",
   "metadata": {},
   "outputs": [],
   "source": [
    "# If your baseline comes from a model run the model here and show it's results"
   ]
  },
  {
   "cell_type": "markdown",
   "id": "emotional-purchase",
   "metadata": {},
   "source": [
    "### Best 3 Models\n",
    "* Show the three best model results obtained using your selected features to predict the target variable\n",
    "* Tipically students will show the top models they are able to generate for three differint model types"
   ]
  },
  {
   "cell_type": "markdown",
   "id": "gentle-capability",
   "metadata": {},
   "source": [
    "## You may use this as a templet for how to introduce your models:"
   ]
  },
  {
   "cell_type": "markdown",
   "id": "intensive-vietnamese",
   "metadata": {},
   "source": [
    "### Model Type"
   ]
  },
  {
   "cell_type": "code",
   "execution_count": null,
   "id": "colonial-newport",
   "metadata": {},
   "outputs": [],
   "source": [
    "# code that runs the best model in that model type (this mad be imported from a module)"
   ]
  },
  {
   "cell_type": "markdown",
   "id": "distinguished-abuse",
   "metadata": {},
   "source": [
    "Print out of model code should read: <br>\n",
    "\"Model Type\" <br>\n",
    "\"evaluation metric\" on train: \"evaluation result\" <br>\n",
    "\"evaluation metric\" on validate: \"evaluation result\""
   ]
  },
  {
   "cell_type": "markdown",
   "id": "regulated-fellowship",
   "metadata": {},
   "source": [
    "### Test Model\n",
    "* Choose the best model out of the three as yout best model and explain why you have chosen it\n",
    "* Explain that you will now run your final model on test data to guage how it will perform on unseen data\n"
   ]
  },
  {
   "cell_type": "code",
   "execution_count": null,
   "id": "optical-quilt",
   "metadata": {},
   "outputs": [],
   "source": [
    "# Code that runs the best overall model on test data (this may be imported from a module)"
   ]
  },
  {
   "cell_type": "markdown",
   "id": "motivated-recycling",
   "metadata": {},
   "source": [
    "Print out of model code should read: <br>\n",
    "\"Model Type\" <br>\n",
    "\"evaluation metric\" on Test: \"evaluation result\" <br>"
   ]
  },
  {
   "cell_type": "markdown",
   "id": "bright-evans",
   "metadata": {},
   "source": [
    "### Modeling Wrap \n",
    "* Give a final interpritation of how the models test score compares to the baseline and weather you would recomend this model for production"
   ]
  },
  {
   "cell_type": "markdown",
   "id": "tutorial-twelve",
   "metadata": {},
   "source": [
    "## Conclution\n",
    "\n",
    "### Summery\n",
    "* summerize you findings and answer the questions you brought up in explore \n",
    "* summerize how drivers discovered lead or did not lead to a successful model \n",
    "\n",
    "### Recommendations\n",
    "* Recommendations are actions the stakeholder should take based on your insights\n",
    "\n",
    "### Next Steps\n",
    "* Nest Steps are what you as a Data Scientist would do if provided more time to work on the project"
   ]
  },
  {
   "cell_type": "markdown",
   "id": "tender-source",
   "metadata": {},
   "source": [
    "**Where there is code in your report there should also be code comments telling the reader what each code block is doing. this is ture for any and all code blocks even if you are using a function to import the code**"
   ]
  },
  {
   "cell_type": "markdown",
   "id": "prime-giving",
   "metadata": {},
   "source": [
    "**Your Notebook should contain adequate markdown that documents your thought process, decision making, and navigation through the pipeline. As a Data Scientist your job is not only to make discoveries but to effectivly communicate them as well. This means documintation is a critical part of your job.**"
   ]
  }
 ],
 "metadata": {
  "kernelspec": {
   "display_name": "Python 3 (ipykernel)",
   "language": "python",
   "name": "python3"
  },
  "language_info": {
   "codemirror_mode": {
    "name": "ipython",
    "version": 3
   },
   "file_extension": ".py",
   "mimetype": "text/x-python",
   "name": "python",
   "nbconvert_exporter": "python",
   "pygments_lexer": "ipython3",
   "version": "3.9.13"
  }
 },
 "nbformat": 4,
 "nbformat_minor": 5
}
