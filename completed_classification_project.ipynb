{
 "cells": [
  {
   "cell_type": "markdown",
   "id": "d8c4a409",
   "metadata": {},
   "source": [
    "# Customer Churn Factors"
   ]
  },
  {
   "cell_type": "markdown",
   "id": "e348ce96",
   "metadata": {},
   "source": [
    "# Goals:\n",
    "* identify factors that contribute to customer churn\n",
    "* use machine learning model to classify customers as churn or not"
   ]
  },
  {
   "cell_type": "markdown",
   "id": "454ae337",
   "metadata": {},
   "source": [
    "# Imports"
   ]
  },
  {
   "cell_type": "code",
   "execution_count": 1,
   "id": "d4c18184",
   "metadata": {},
   "outputs": [],
   "source": [
    "import pandas as pd\n",
    "import numpy as np\n",
    "\n",
    "import matplotlib.pyplot as plt\n",
    "import seaborn as sns\n",
    "import os\n",
    "\n",
    "from sklearn.model_selection import train_test_split\n",
    "import sklearn.preprocessing\n",
    "from sklearn.tree import DecisionTreeClassifier\n",
    "from sklearn.ensemble import RandomForestClassifier\n",
    "from sklearn.neighbors import KNeighborsClassifier\n",
    "from sklearn.linear_model import LogisticRegression\n",
    "from sklearn.tree import DecisionTreeClassifier, plot_tree\n",
    "from sklearn.metrics import classification_report\n",
    "\n",
    "import warnings\n",
    "warnings.filterwarnings(\"ignore\")\n",
    "\n",
    "from scipy import stats\n",
    "import acquire\n",
    "import prepare"
   ]
  },
  {
   "cell_type": "markdown",
   "id": "d3e3b9ff",
   "metadata": {},
   "source": [
    "# Acquire\n",
    "\n",
    "* Accquired data from noether sequal server\n",
    "* data obtained 1/2/2023\n",
    "* 7043 rows by 24 columns before cleaning\n",
    "* Each row represents a customer\n",
    "* Each column represents a demograhic or service type information\n"
   ]
  },
  {
   "cell_type": "markdown",
   "id": "2102ec5e",
   "metadata": {},
   "source": [
    "# Prepare\n",
    "* Removed columns that did not contain useful information\n",
    "* Checked for nulls in the data and removed them\n",
    "* Eliminated rows that did have a space as a value in their total_charges column\n",
    "* Changed total_charges column object to float\n",
    "* Added dummy variables for categorical variables\n",
    "* Split data into train, validate and test (approx. 60/25/15), stratifying on 'churn'\n",
    "* Scaled continuous variable\n",
    "* Outliers have not been removed for this iteration of the project"
   ]
  },
  {
   "cell_type": "markdown",
   "id": "475c9cc3",
   "metadata": {},
   "source": [
    "\n",
    "# Data Dictionary\n",
    "\n",
    "\n"
   ]
  },
  {
   "cell_type": "markdown",
   "id": "20461c3c",
   "metadata": {},
   "source": [
    "| Feature | Definition |\n",
    "|:--------|:-----------|\n",
    "|online_security| True or False, states whether or not customer has online_security|\n",
    "|churn (target)| True or False, if True, this means that the customer cancelled their services|\n",
    "|monthly_charges| How much money in USD a customer pays per month|\n",
    "|total_charges| How much money in USD a customer has paid over the course of their contract(s)|\n",
    "|contract_type| The length of a customer's contract before they can cancel without penalties|"
   ]
  },
  {
   "cell_type": "markdown",
   "id": "435dbdfd",
   "metadata": {},
   "source": [
    "## A Brief look at data"
   ]
  },
  {
   "cell_type": "code",
   "execution_count": 2,
   "id": "90c83334",
   "metadata": {},
   "outputs": [
    {
     "data": {
      "text/html": [
       "<div>\n",
       "<style scoped>\n",
       "    .dataframe tbody tr th:only-of-type {\n",
       "        vertical-align: middle;\n",
       "    }\n",
       "\n",
       "    .dataframe tbody tr th {\n",
       "        vertical-align: top;\n",
       "    }\n",
       "\n",
       "    .dataframe thead th {\n",
       "        text-align: right;\n",
       "    }\n",
       "</style>\n",
       "<table border=\"1\" class=\"dataframe\">\n",
       "  <thead>\n",
       "    <tr style=\"text-align: right;\">\n",
       "      <th></th>\n",
       "      <th>online_security</th>\n",
       "      <th>churn</th>\n",
       "      <th>internet_service_type</th>\n",
       "      <th>scaled_total</th>\n",
       "      <th>scaled_monthly</th>\n",
       "      <th>online_security_No internet service</th>\n",
       "      <th>online_security_Yes</th>\n",
       "      <th>internet_service_type_Fiber optic</th>\n",
       "      <th>internet_service_type_None</th>\n",
       "      <th>contract_type_One year</th>\n",
       "      <th>contract_type_Two year</th>\n",
       "    </tr>\n",
       "  </thead>\n",
       "  <tbody>\n",
       "    <tr>\n",
       "      <th>0</th>\n",
       "      <td>No</td>\n",
       "      <td>No</td>\n",
       "      <td>DSL</td>\n",
       "      <td>0.068315</td>\n",
       "      <td>0.552421</td>\n",
       "      <td>0</td>\n",
       "      <td>0</td>\n",
       "      <td>0</td>\n",
       "      <td>0</td>\n",
       "      <td>1</td>\n",
       "      <td>0</td>\n",
       "    </tr>\n",
       "    <tr>\n",
       "      <th>1</th>\n",
       "      <td>No</td>\n",
       "      <td>No</td>\n",
       "      <td>DSL</td>\n",
       "      <td>0.062454</td>\n",
       "      <td>0.504421</td>\n",
       "      <td>0</td>\n",
       "      <td>0</td>\n",
       "      <td>0</td>\n",
       "      <td>0</td>\n",
       "      <td>0</td>\n",
       "      <td>0</td>\n",
       "    </tr>\n",
       "    <tr>\n",
       "      <th>2</th>\n",
       "      <td>No</td>\n",
       "      <td>Yes</td>\n",
       "      <td>Fiber optic</td>\n",
       "      <td>0.032338</td>\n",
       "      <td>0.622316</td>\n",
       "      <td>0</td>\n",
       "      <td>0</td>\n",
       "      <td>1</td>\n",
       "      <td>0</td>\n",
       "      <td>0</td>\n",
       "      <td>0</td>\n",
       "    </tr>\n",
       "    <tr>\n",
       "      <th>3</th>\n",
       "      <td>No</td>\n",
       "      <td>Yes</td>\n",
       "      <td>Fiber optic</td>\n",
       "      <td>0.142531</td>\n",
       "      <td>0.825263</td>\n",
       "      <td>0</td>\n",
       "      <td>0</td>\n",
       "      <td>1</td>\n",
       "      <td>0</td>\n",
       "      <td>0</td>\n",
       "      <td>0</td>\n",
       "    </tr>\n",
       "    <tr>\n",
       "      <th>4</th>\n",
       "      <td>No</td>\n",
       "      <td>Yes</td>\n",
       "      <td>Fiber optic</td>\n",
       "      <td>0.030789</td>\n",
       "      <td>0.706526</td>\n",
       "      <td>0</td>\n",
       "      <td>0</td>\n",
       "      <td>1</td>\n",
       "      <td>0</td>\n",
       "      <td>0</td>\n",
       "      <td>0</td>\n",
       "    </tr>\n",
       "  </tbody>\n",
       "</table>\n",
       "</div>"
      ],
      "text/plain": [
       "  online_security churn internet_service_type  scaled_total  scaled_monthly  \\\n",
       "0              No    No                   DSL      0.068315        0.552421   \n",
       "1              No    No                   DSL      0.062454        0.504421   \n",
       "2              No   Yes           Fiber optic      0.032338        0.622316   \n",
       "3              No   Yes           Fiber optic      0.142531        0.825263   \n",
       "4              No   Yes           Fiber optic      0.030789        0.706526   \n",
       "\n",
       "   online_security_No internet service  online_security_Yes  \\\n",
       "0                                    0                    0   \n",
       "1                                    0                    0   \n",
       "2                                    0                    0   \n",
       "3                                    0                    0   \n",
       "4                                    0                    0   \n",
       "\n",
       "   internet_service_type_Fiber optic  internet_service_type_None  \\\n",
       "0                                  0                           0   \n",
       "1                                  0                           0   \n",
       "2                                  1                           0   \n",
       "3                                  1                           0   \n",
       "4                                  1                           0   \n",
       "\n",
       "   contract_type_One year  contract_type_Two year  \n",
       "0                       1                       0  \n",
       "1                       0                       0  \n",
       "2                       0                       0  \n",
       "3                       0                       0  \n",
       "4                       0                       0  "
      ]
     },
     "execution_count": 2,
     "metadata": {},
     "output_type": "execute_result"
    }
   ],
   "source": [
    "telco = acquire.get_telco_data()\n",
    "telco = prepare.prep_classification_project_chi(telco) \n",
    "telco.head()"
   ]
  },
  {
   "cell_type": "code",
   "execution_count": 3,
   "id": "c8db7079",
   "metadata": {},
   "outputs": [],
   "source": [
    "train, test = train_test_split(telco, test_size=.2, random_state=123, stratify=telco.churn)\n",
    "train, validate = train_test_split(train, test_size=.3, random_state=123, stratify=train.churn)\n"
   ]
  },
  {
   "cell_type": "markdown",
   "id": "1b9fdf67",
   "metadata": {},
   "source": [
    "# Explore"
   ]
  },
  {
   "cell_type": "markdown",
   "id": "5a35e15f",
   "metadata": {},
   "source": [
    "## How often does customer churn occur?"
   ]
  },
  {
   "cell_type": "code",
   "execution_count": 5,
   "id": "e9c4cb15",
   "metadata": {},
   "outputs": [
    {
     "data": {
      "text/plain": [
       "Text(0.5, 1.0, 'churn rate')"
      ]
     },
     "execution_count": 5,
     "metadata": {},
     "output_type": "execute_result"
    },
    {
     "data": {
      "image/png": "[encoded data removed]",
      "text/plain": [
       "<Figure size 640x480 with 1 Axes>"
      ]
     },
     "metadata": {},
     "output_type": "display_data"
    }
   ],
   "source": [
    "y = np.array([1869, 5174])\n",
    "mylabels = ['churned', 'not churned']\n",
    "plt.pie(y, labels = mylabels, startangle=90, autopct='%1.1f%%')\n",
    "plt.title('churn rate')"
   ]
  },
  {
   "cell_type": "markdown",
   "id": "62f9530f",
   "metadata": {},
   "source": [
    "* about 1/4 of customers churn"
   ]
  },
  {
   "cell_type": "markdown",
   "id": "76115cb1",
   "metadata": {},
   "source": [
    "## Does Internet Service Type affect Churn?"
   ]
  },
  {
   "cell_type": "code",
   "execution_count": 6,
   "id": "010d276b",
   "metadata": {},
   "outputs": [
    {
     "data": {
      "image/png": "[encoded data removed]",
      "text/plain": [
       "<Figure size 640x480 with 1 Axes>"
      ]
     },
     "metadata": {},
     "output_type": "display_data"
    }
   ],
   "source": [
    "DSL = np.array([459, 1962])\n",
    "Fiber_optic = np.array([1297, 1799])\n",
    "nointernet = np.array([113, 1413])\n",
    "plt.pie(DSL, labels = mylabels, startangle=90, autopct='%1.1f%%')\n",
    "plt.title('DSL Churn Rate')\n",
    "plt.show()"
   ]
  },
  {
   "cell_type": "markdown",
   "id": "fc9f714d",
   "metadata": {},
   "source": [
    "* roughly 19% of DSL users churned"
   ]
  },
  {
   "cell_type": "code",
   "execution_count": 7,
   "id": "3fc5a26e",
   "metadata": {},
   "outputs": [
    {
     "data": {
      "image/png": "[encoded data removed]",
      "text/plain": [
       "<Figure size 640x480 with 1 Axes>"
      ]
     },
     "metadata": {},
     "output_type": "display_data"
    }
   ],
   "source": [
    "plt.pie(Fiber_optic, labels = mylabels, startangle=90, autopct='%1.1f%%')\n",
    "plt.title('Fiber Optic Churn Rate')\n",
    "\n",
    "\n",
    "\n",
    "plt.show()"
   ]
  },
  {
   "cell_type": "markdown",
   "id": "97b8cfaa",
   "metadata": {},
   "source": [
    "* roughly 42% of users churned"
   ]
  },
  {
   "cell_type": "code",
   "execution_count": 8,
   "id": "6a016147",
   "metadata": {},
   "outputs": [
    {
     "data": {
      "image/png": "[encoded data removed]",
      "text/plain": [
       "<Figure size 640x480 with 1 Axes>"
      ]
     },
     "metadata": {},
     "output_type": "display_data"
    }
   ],
   "source": [
    "plt.pie(nointernet,labels=mylabels, startangle=90, autopct='%1.1f%%')\n",
    "plt.title(\"No Internet Churn Rate\")\n",
    "plt.axis('equal')\n",
    "plt.show()"
   ]
  },
  {
   "cell_type": "markdown",
   "id": "4af79320",
   "metadata": {},
   "source": [
    "* 7.4% of customers without internet churned"
   ]
  },
  {
   "cell_type": "markdown",
   "id": "0eb865e0",
   "metadata": {},
   "source": [
    "##### I will now use a chi squared analysis to investigate whether churn and internet service type are related"
   ]
  },
  {
   "cell_type": "markdown",
   "id": "ab8d2730",
   "metadata": {},
   "source": [
    "* confidence interval of 95%\n",
    "* and alpha value of 0.05"
   ]
  },
  {
   "cell_type": "markdown",
   "id": "4a98706c",
   "metadata": {},
   "source": [
    "### Ho: there is no relationship between churn and internet service type\n",
    "### Ha: there is a relationship between churn and internet service type"
   ]
  },
  {
   "cell_type": "code",
   "execution_count": 9,
   "id": "c063eddf",
   "metadata": {},
   "outputs": [
    {
     "name": "stdout",
     "output_type": "stream",
     "text": [
      "3.2062272759526154e-96\n"
     ]
    }
   ],
   "source": [
    "observed = pd.crosstab(train.internet_service_type, train.churn)\n",
    "chi2, p, degf, expected = stats.chi2_contingency(observed)\n",
    "print(p)"
   ]
  },
  {
   "cell_type": "markdown",
   "id": "04ebda3f",
   "metadata": {},
   "source": [
    "The p-value is less than  alpha. Therefore, we have evidence to support that \"churn\" and \"internet service type\" are related. Based on this, and the obvious visual representation of the data, I believe that using the \"internet service type\" feature in modeling will likely have a small positive impact on the model's accuracy."
   ]
  },
  {
   "cell_type": "markdown",
   "id": "9cd47690",
   "metadata": {},
   "source": [
    "# Does having online security affect customer churn?"
   ]
  },
  {
   "cell_type": "code",
   "execution_count": 10,
   "id": "35063c60",
   "metadata": {},
   "outputs": [
    {
     "data": {
      "image/png": "[encoded data removed]",
      "text/plain": [
       "<Figure size 640x480 with 1 Axes>"
      ]
     },
     "metadata": {},
     "output_type": "display_data"
    }
   ],
   "source": [
    "Online = np.array([295, 1724])\n",
    "nosecure = np.array([1461, 2037])\n",
    "\n",
    "plt.pie(Online, labels = mylabels, startangle=90, autopct='%1.1f%%')\n",
    "plt.title('Churns with security')\n",
    "plt.show()"
   ]
  },
  {
   "cell_type": "markdown",
   "id": "23be72e2",
   "metadata": {},
   "source": [
    "* about 15% of customers with online security churned"
   ]
  },
  {
   "cell_type": "code",
   "execution_count": 11,
   "id": "8f2ca620",
   "metadata": {},
   "outputs": [
    {
     "data": {
      "image/png": "[encoded data removed]",
      "text/plain": [
       "<Figure size 640x480 with 1 Axes>"
      ]
     },
     "metadata": {},
     "output_type": "display_data"
    }
   ],
   "source": [
    "plt.pie(nosecure, labels = mylabels, startangle=90, autopct='%1.1f%%')\n",
    "plt.title('Churns without security')\n",
    "plt.show()"
   ]
  },
  {
   "cell_type": "markdown",
   "id": "bddfd5c1",
   "metadata": {},
   "source": [
    "* about 42% of churned that didnt have security"
   ]
  },
  {
   "cell_type": "markdown",
   "id": "94e9308d",
   "metadata": {},
   "source": [
    "##### I will now use a chi squared analysis to investigate whether churn and internet service type are related\n",
    "* confidence interval of 95%\n",
    "* and alpha value of 0.05\n",
    "### Ho: there is no relationship between churn and online security\n",
    "### Ha: there is a relationship between churn and online security"
   ]
  },
  {
   "cell_type": "code",
   "execution_count": 12,
   "id": "39380e08",
   "metadata": {},
   "outputs": [
    {
     "name": "stdout",
     "output_type": "stream",
     "text": [
      "1.3862996282206897e-111\n"
     ]
    }
   ],
   "source": [
    "observed = pd.crosstab(train.online_security, train.churn)\n",
    "chi2, p, degf, expected = stats.chi2_contingency(observed)\n",
    "print(p)"
   ]
  },
  {
   "cell_type": "markdown",
   "id": "c5ef24cf",
   "metadata": {},
   "source": [
    "The p-value is less than  alpha. Therefore, we have evidence to support that \"churn\" and \"internet service type\" are related. Based on this, and the obvious visual representation of the data, I believe that using the \"internet service type\" feature in modeling will likely have a small positive impact on the model's accuracy."
   ]
  },
  {
   "cell_type": "markdown",
   "id": "120a04ff",
   "metadata": {},
   "source": [
    "# Do total charges affect churn?"
   ]
  },
  {
   "cell_type": "markdown",
   "id": "21cc2255",
   "metadata": {},
   "source": [
    "![](churn_total.png)"
   ]
  },
  {
   "cell_type": "markdown",
   "id": "0b812df0",
   "metadata": {},
   "source": [
    "* the graph shows that as total charges increase, churn decreases. This may be because the more total charges, the more time the customer has been with the company"
   ]
  },
  {
   "cell_type": "markdown",
   "id": "cb89c32d",
   "metadata": {},
   "source": [
    "# Do monthly charges affect churn?"
   ]
  },
  {
   "cell_type": "markdown",
   "id": "0f16bbe7",
   "metadata": {},
   "source": [
    "![](churn_month.png)"
   ]
  },
  {
   "cell_type": "markdown",
   "id": "515cfb38",
   "metadata": {},
   "source": [
    "* it can be seen in the visualization that customers who are charged around $80 are the most likely to have churned"
   ]
  },
  {
   "cell_type": "markdown",
   "id": "c37bfafb",
   "metadata": {},
   "source": [
    "# Does contract type affect churn?"
   ]
  },
  {
   "cell_type": "markdown",
   "id": "351cd49b",
   "metadata": {},
   "source": [
    "![](Churn_service_contract.png)"
   ]
  },
  {
   "cell_type": "markdown",
   "id": "581aaa72",
   "metadata": {},
   "source": [
    "* our visuales indicate that contract type is a factor for churn"
   ]
  },
  {
   "cell_type": "markdown",
   "id": "248fba8e",
   "metadata": {},
   "source": [
    "# Exploration Summary"
   ]
  },
  {
   "cell_type": "markdown",
   "id": "c37eaa9e",
   "metadata": {},
   "source": [
    "* \"Internet service type\" and \"online security\" were each found to be factors of \"churn\"\n",
    "    * The influence appears strong\n",
    "* Monthly charges appears to have influence on churn\n",
    "    * the spread of the distribution indicates that the influence is weak\n",
    "* Contract type can may influence churn based on visuals\n",
    "* Having online security also affects churn as shown in our visuals\n",
    "* These are enough features to create a model that can predict customer churn"
   ]
  },
  {
   "cell_type": "markdown",
   "id": "fa67ba4d",
   "metadata": {},
   "source": [
    "# Features I'm modeling with"
   ]
  },
  {
   "cell_type": "markdown",
   "id": "ceb07729",
   "metadata": {},
   "source": [
    "* total charges\n",
    "* monthly charges\n",
    "* internet service type\n",
    "* contract type\n",
    "* online security"
   ]
  },
  {
   "cell_type": "markdown",
   "id": "6707b733",
   "metadata": {},
   "source": [
    "# Modeling"
   ]
  },
  {
   "cell_type": "markdown",
   "id": "41a1733b",
   "metadata": {},
   "source": [
    "* I will use accuracy as my evaluation metric\n",
    "* no churn makeup 73.5% of the data"
   ]
  },
  {
   "cell_type": "markdown",
   "id": "28e1df17",
   "metadata": {},
   "source": [
    "Modeling\n",
    "I will use accuracy as my evaluation metric\n",
    "non-upsets makeup 67% of the data\n",
    "\n",
    "* by guessing no for every game one could achieve an accuracy of 73.5% \n",
    "* 73.5% will be the baseline accuracy I use for this project\n",
    "* I will be evaluating models developed using four different model types and various hyperparameter configurations * Models will be evaluated on train and validate data\n",
    "* The model that performs the best will then be evaluated on test data"
   ]
  },
  {
   "cell_type": "markdown",
   "id": "672161e2",
   "metadata": {},
   "source": [
    "### Decision tree"
   ]
  },
  {
   "cell_type": "code",
   "execution_count": 13,
   "id": "b6737407",
   "metadata": {},
   "outputs": [],
   "source": [
    "seed = 42\n",
    "clf = DecisionTreeClassifier(max_depth = 3, random_state = 42)\n",
    "telco = acquire.get_telco_data()\n",
    "telco = prepare.prep_classification_project_tree(telco)\n",
    "train, test = train_test_split(telco, test_size=.2, random_state=123, stratify=telco.churn)\n",
    "train, validate = train_test_split(train, test_size=.3, random_state=123, stratify=train.churn)\n",
    "x_train = train.drop(columns = ['churn'])\n",
    "y_train = train['churn']\n",
    "\n",
    "x_val = validate.drop(columns = ['churn'])\n",
    "y_val = validate['churn']\n",
    "\n",
    "x_test = test.drop(columns = ['churn'])\n",
    "y_test = test['churn']\n",
    "\n",
    "# Prepping data for decision tree"
   ]
  },
  {
   "cell_type": "code",
   "execution_count": 14,
   "id": "abeda5f2",
   "metadata": {},
   "outputs": [
    {
     "data": {
      "text/plain": [
       "DecisionTreeClassifier(max_depth=3, random_state=42)"
      ]
     },
     "execution_count": 14,
     "metadata": {},
     "output_type": "execute_result"
    }
   ],
   "source": [
    "clf.fit(x_train, y_train) #fit model"
   ]
  },
  {
   "cell_type": "code",
   "execution_count": 15,
   "id": "feb60967",
   "metadata": {},
   "outputs": [
    {
     "name": "stdout",
     "output_type": "stream",
     "text": [
      "              precision    recall  f1-score   support\n",
      "\n",
      "          No       0.84      0.89      0.87      2891\n",
      "         Yes       0.65      0.53      0.58      1046\n",
      "\n",
      "    accuracy                           0.80      3937\n",
      "   macro avg       0.74      0.71      0.72      3937\n",
      "weighted avg       0.79      0.80      0.79      3937\n",
      "\n"
     ]
    }
   ],
   "source": [
    "y_pred = clf.predict(x_train)\n",
    "print(classification_report(y_train, y_pred))"
   ]
  },
  {
   "cell_type": "code",
   "execution_count": 16,
   "id": "e019748c",
   "metadata": {},
   "outputs": [
    {
     "name": "stdout",
     "output_type": "stream",
     "text": [
      "              precision    recall  f1-score   support\n",
      "\n",
      "          No       0.83      0.87      0.85      1239\n",
      "         Yes       0.59      0.50      0.54       449\n",
      "\n",
      "    accuracy                           0.77      1688\n",
      "   macro avg       0.71      0.69      0.70      1688\n",
      "weighted avg       0.76      0.77      0.77      1688\n",
      "\n"
     ]
    }
   ],
   "source": [
    "y_pred = clf.predict(x_val)\n",
    "print(classification_report(y_val, y_pred))"
   ]
  },
  {
   "cell_type": "markdown",
   "id": "1b2ef2b5",
   "metadata": {},
   "source": [
    "* accuracy of decision tree is 80% for train and for validate is 77%\n",
    "* small difference between the two indicates a decent model"
   ]
  },
  {
   "cell_type": "markdown",
   "id": "58e3ce54",
   "metadata": {},
   "source": [
    "### Random Forest"
   ]
  },
  {
   "cell_type": "code",
   "execution_count": 17,
   "id": "82444e74",
   "metadata": {},
   "outputs": [
    {
     "name": "stdout",
     "output_type": "stream",
     "text": [
      "              precision    recall  f1-score   support\n",
      "\n",
      "          No       0.81      0.95      0.87      2891\n",
      "         Yes       0.72      0.38      0.50      1046\n",
      "\n",
      "    accuracy                           0.80      3937\n",
      "   macro avg       0.77      0.66      0.69      3937\n",
      "weighted avg       0.79      0.80      0.77      3937\n",
      "\n"
     ]
    }
   ],
   "source": [
    "rf = RandomForestClassifier(bootstrap=True, \n",
    "                            class_weight=None, \n",
    "                            criterion='gini',\n",
    "                            min_samples_leaf=3,\n",
    "                            n_estimators=100,\n",
    "                            max_depth=3, \n",
    "                            random_state=123)\n",
    "rf.fit(x_train, y_train)\n",
    "RandomForestClassifier(max_depth=3, min_samples_leaf=3, random_state=123)\n",
    "y_pred = rf.predict(x_train)\n",
    "print(classification_report(y_train, y_pred))"
   ]
  },
  {
   "cell_type": "code",
   "execution_count": 18,
   "id": "c6f27ccc",
   "metadata": {},
   "outputs": [
    {
     "name": "stdout",
     "output_type": "stream",
     "text": [
      "              precision    recall  f1-score   support\n",
      "\n",
      "          No       0.80      0.92      0.86      1239\n",
      "         Yes       0.62      0.35      0.45       449\n",
      "\n",
      "    accuracy                           0.77      1688\n",
      "   macro avg       0.71      0.64      0.65      1688\n",
      "weighted avg       0.75      0.77      0.75      1688\n",
      "\n"
     ]
    }
   ],
   "source": [
    "y_pred = rf.predict(x_val)\n",
    "print(classification_report(y_val, y_pred))"
   ]
  },
  {
   "cell_type": "markdown",
   "id": "b05ff441",
   "metadata": {},
   "source": [
    "* Random forest accuracy is 80% for train and 77% for validate\n",
    "* small difference between the two indicates a decent model"
   ]
  },
  {
   "cell_type": "markdown",
   "id": "e5414f64",
   "metadata": {},
   "source": [
    "### KNN model"
   ]
  },
  {
   "cell_type": "code",
   "execution_count": 19,
   "id": "92756526",
   "metadata": {},
   "outputs": [],
   "source": [
    "knn = KNeighborsClassifier(n_neighbors=5, weights='uniform')\n",
    "knn.fit(x_train, y_train)\n",
    "y_pred = knn.predict(x_train)\n",
    "y_pred_proba = knn.predict_proba(x_train)"
   ]
  },
  {
   "cell_type": "code",
   "execution_count": 20,
   "id": "115e9961",
   "metadata": {},
   "outputs": [
    {
     "name": "stdout",
     "output_type": "stream",
     "text": [
      "              precision    recall  f1-score   support\n",
      "\n",
      "          No       0.87      0.92      0.89      2891\n",
      "         Yes       0.74      0.61      0.67      1046\n",
      "\n",
      "    accuracy                           0.84      3937\n",
      "   macro avg       0.80      0.77      0.78      3937\n",
      "weighted avg       0.83      0.84      0.83      3937\n",
      "\n"
     ]
    }
   ],
   "source": [
    "print(classification_report(y_train, y_pred))"
   ]
  },
  {
   "cell_type": "code",
   "execution_count": 21,
   "id": "d4a6bb00",
   "metadata": {},
   "outputs": [
    {
     "name": "stdout",
     "output_type": "stream",
     "text": [
      "              precision    recall  f1-score   support\n",
      "\n",
      "          No       0.82      0.86      0.84      1239\n",
      "         Yes       0.56      0.50      0.53       449\n",
      "\n",
      "    accuracy                           0.76      1688\n",
      "   macro avg       0.69      0.68      0.68      1688\n",
      "weighted avg       0.75      0.76      0.76      1688\n",
      "\n"
     ]
    }
   ],
   "source": [
    "y_pred = knn.predict(x_val)\n",
    "print(classification_report(y_val, y_pred))"
   ]
  },
  {
   "cell_type": "markdown",
   "id": "d02b9602",
   "metadata": {},
   "source": [
    "* KNN accuracy is better than the base line with 84% accuracy in train. Accuracy for validate 76%\n",
    "* Due to the large difference in accuracy, the KNN model is overfit"
   ]
  },
  {
   "cell_type": "markdown",
   "id": "8bfd089e",
   "metadata": {},
   "source": [
    "# Logistic Regression"
   ]
  },
  {
   "cell_type": "code",
   "execution_count": 22,
   "id": "6241a844",
   "metadata": {},
   "outputs": [],
   "source": [
    "telco = acquire.get_telco_data()\n",
    "telco = prepare.prep_classification_project_logistic(telco)\n",
    "train, test = train_test_split(telco, test_size=.2, random_state=123, stratify=telco.churn_Yes)\n",
    "train, validate = train_test_split(train, test_size=.3, random_state=123, stratify=train.churn_Yes)\n",
    "x_train = train.drop(columns = ['churn_Yes'])\n",
    "y_train = train['churn_Yes']\n",
    "\n",
    "x_val = validate.drop(columns = ['churn_Yes'])\n",
    "y_val = validate['churn_Yes']\n",
    "\n",
    "x_test = test.drop(columns = ['churn_Yes'])\n",
    "y_test = test['churn_Yes']"
   ]
  },
  {
   "cell_type": "code",
   "execution_count": 23,
   "id": "f7439d98",
   "metadata": {},
   "outputs": [
    {
     "data": {
      "text/plain": [
       "LogisticRegression(random_state=42)"
      ]
     },
     "execution_count": 23,
     "metadata": {},
     "output_type": "execute_result"
    }
   ],
   "source": [
    "logit = LogisticRegression(random_state= 42)\n",
    "logit.fit(x_train, y_train)"
   ]
  },
  {
   "cell_type": "code",
   "execution_count": 24,
   "id": "b4e0a194",
   "metadata": {},
   "outputs": [
    {
     "name": "stdout",
     "output_type": "stream",
     "text": [
      "              precision    recall  f1-score   support\n",
      "\n",
      "           0       0.84      0.89      0.86      2891\n",
      "           1       0.63      0.52      0.57      1046\n",
      "\n",
      "    accuracy                           0.79      3937\n",
      "   macro avg       0.73      0.70      0.71      3937\n",
      "weighted avg       0.78      0.79      0.78      3937\n",
      "\n",
      "              precision    recall  f1-score   support\n",
      "\n",
      "           0       0.83      0.86      0.85      1239\n",
      "           1       0.58      0.51      0.54       449\n",
      "\n",
      "    accuracy                           0.77      1688\n",
      "   macro avg       0.70      0.69      0.69      1688\n",
      "weighted avg       0.76      0.77      0.76      1688\n",
      "\n"
     ]
    }
   ],
   "source": [
    "y_pred = logit.predict(x_train)\n",
    "print(classification_report(y_train, y_pred))\n",
    "y_pred = logit.predict(x_val)\n",
    "print(classification_report(y_val, y_pred))"
   ]
  },
  {
   "cell_type": "markdown",
   "id": "6e87ebac",
   "metadata": {},
   "source": [
    "# Comparing models"
   ]
  },
  {
   "cell_type": "markdown",
   "id": "a92be063",
   "metadata": {},
   "source": [
    "* Decision tree, random forest, Logistic Regression, and KNN all had similiar accuracy with KNN being slightly more accurate\n",
    "* KNN model is overfit\n",
    "* Decision tree, random forest, and logistic regression had the most similar results\n",
    "* all models slightly did better than baseline\n",
    "* I will be using the logistic regression model on my test data set"
   ]
  },
  {
   "cell_type": "code",
   "execution_count": 25,
   "id": "5fc660e2",
   "metadata": {},
   "outputs": [
    {
     "name": "stdout",
     "output_type": "stream",
     "text": [
      "              precision    recall  f1-score   support\n",
      "\n",
      "           0       0.84      0.88      0.86      1033\n",
      "           1       0.62      0.54      0.58       374\n",
      "\n",
      "    accuracy                           0.79      1407\n",
      "   macro avg       0.73      0.71      0.72      1407\n",
      "weighted avg       0.78      0.79      0.79      1407\n",
      "\n"
     ]
    }
   ],
   "source": [
    "y_pred = logit.predict(x_test)\n",
    "print(classification_report(y_test, y_pred))"
   ]
  },
  {
   "cell_type": "markdown",
   "id": "65fbffbe",
   "metadata": {},
   "source": [
    "# Modeling Summary"
   ]
  },
  {
   "cell_type": "markdown",
   "id": "d1ad73d8",
   "metadata": {},
   "source": [
    "* all models did slightly better than the baseline\n",
    "* KNN model is overfit\n",
    "* Decision Tree and random forest are pretty good models but logistic regression is slightly better\n",
    "* Logistic Regression was used on the test data"
   ]
  },
  {
   "cell_type": "code",
   "execution_count": null,
   "id": "91ab8624",
   "metadata": {},
   "outputs": [],
   "source": []
  },
  {
   "cell_type": "markdown",
   "id": "330025cf",
   "metadata": {},
   "source": [
    "# Conclusions"
   ]
  },
  {
   "cell_type": "markdown",
   "id": "80f4e9a1",
   "metadata": {},
   "source": [
    "### Explore"
   ]
  },
  {
   "cell_type": "markdown",
   "id": "950a2b35",
   "metadata": {},
   "source": [
    "* \"Internet service type\" and \"online security\" were each found to be factors of \"churn\"\n",
    "    * The influence appears strong\n",
    "* Monthly charges appears to have influence on churn\n",
    "    * the spread of the distribution indicates that the influence is weak\n",
    "* Contract type can may influence churn based on visuals\n",
    "* Having online security also affects churn as shown in our visuals\n",
    "* These are enough features to create a model that can predict customer churn"
   ]
  },
  {
   "cell_type": "markdown",
   "id": "f2fb8f13",
   "metadata": {},
   "source": [
    "### Modeling"
   ]
  },
  {
   "cell_type": "markdown",
   "id": "fb1e36aa",
   "metadata": {},
   "source": [
    "* None of the models signifigantly out performed the baseline \n",
    "* All models had similar accuracy\n",
    "* Possible Reasons:\n",
    "    * hyperparameters were not good predictors of churn\n"
   ]
  },
  {
   "cell_type": "markdown",
   "id": "00062b42",
   "metadata": {},
   "source": [
    "### Reccomendations"
   ]
  },
  {
   "cell_type": "markdown",
   "id": "b18d2364",
   "metadata": {},
   "source": [
    "* Consider lowering price of Fiber Optic and increase customers with online_security\n",
    "* Use Logistic Regression model to predict whether or not a customer is going to churn and have marketing team target these customers"
   ]
  },
  {
   "cell_type": "markdown",
   "id": "1bd29ec4",
   "metadata": {},
   "source": [
    "### What's next"
   ]
  },
  {
   "cell_type": "markdown",
   "id": "d53e36b7",
   "metadata": {},
   "source": [
    "* Select different hyperparameters and run models again to get a better one\n",
    "* ask supervisor to purchase tableau so I can make better visuals"
   ]
  },
  {
   "cell_type": "code",
   "execution_count": 26,
   "id": "f7457b4c",
   "metadata": {},
   "outputs": [
    {
     "data": {
      "text/html": [
       "<div>\n",
       "<style scoped>\n",
       "    .dataframe tbody tr th:only-of-type {\n",
       "        vertical-align: middle;\n",
       "    }\n",
       "\n",
       "    .dataframe tbody tr th {\n",
       "        vertical-align: top;\n",
       "    }\n",
       "\n",
       "    .dataframe thead th {\n",
       "        text-align: right;\n",
       "    }\n",
       "</style>\n",
       "<table border=\"1\" class=\"dataframe\">\n",
       "  <thead>\n",
       "    <tr style=\"text-align: right;\">\n",
       "      <th></th>\n",
       "      <th>customer_id</th>\n",
       "      <th>scaled_total</th>\n",
       "      <th>scaled_monthly</th>\n",
       "      <th>online_security_No internet service</th>\n",
       "      <th>online_security_Yes</th>\n",
       "      <th>churn_Yes</th>\n",
       "      <th>internet_service_type_Fiber optic</th>\n",
       "      <th>internet_service_type_None</th>\n",
       "      <th>contract_type_One year</th>\n",
       "      <th>contract_type_Two year</th>\n",
       "    </tr>\n",
       "  </thead>\n",
       "  <tbody>\n",
       "    <tr>\n",
       "      <th>0</th>\n",
       "      <td>0002-ORFBO</td>\n",
       "      <td>0.068315</td>\n",
       "      <td>0.552421</td>\n",
       "      <td>0</td>\n",
       "      <td>0</td>\n",
       "      <td>0</td>\n",
       "      <td>0</td>\n",
       "      <td>0</td>\n",
       "      <td>1</td>\n",
       "      <td>0</td>\n",
       "    </tr>\n",
       "    <tr>\n",
       "      <th>1</th>\n",
       "      <td>0003-MKNFE</td>\n",
       "      <td>0.062454</td>\n",
       "      <td>0.504421</td>\n",
       "      <td>0</td>\n",
       "      <td>0</td>\n",
       "      <td>0</td>\n",
       "      <td>0</td>\n",
       "      <td>0</td>\n",
       "      <td>0</td>\n",
       "      <td>0</td>\n",
       "    </tr>\n",
       "    <tr>\n",
       "      <th>2</th>\n",
       "      <td>0004-TLHLJ</td>\n",
       "      <td>0.032338</td>\n",
       "      <td>0.622316</td>\n",
       "      <td>0</td>\n",
       "      <td>0</td>\n",
       "      <td>1</td>\n",
       "      <td>1</td>\n",
       "      <td>0</td>\n",
       "      <td>0</td>\n",
       "      <td>0</td>\n",
       "    </tr>\n",
       "    <tr>\n",
       "      <th>3</th>\n",
       "      <td>0011-IGKFF</td>\n",
       "      <td>0.142531</td>\n",
       "      <td>0.825263</td>\n",
       "      <td>0</td>\n",
       "      <td>0</td>\n",
       "      <td>1</td>\n",
       "      <td>1</td>\n",
       "      <td>0</td>\n",
       "      <td>0</td>\n",
       "      <td>0</td>\n",
       "    </tr>\n",
       "    <tr>\n",
       "      <th>4</th>\n",
       "      <td>0013-EXCHZ</td>\n",
       "      <td>0.030789</td>\n",
       "      <td>0.706526</td>\n",
       "      <td>0</td>\n",
       "      <td>0</td>\n",
       "      <td>1</td>\n",
       "      <td>1</td>\n",
       "      <td>0</td>\n",
       "      <td>0</td>\n",
       "      <td>0</td>\n",
       "    </tr>\n",
       "  </tbody>\n",
       "</table>\n",
       "</div>"
      ],
      "text/plain": [
       "  customer_id  scaled_total  scaled_monthly  \\\n",
       "0  0002-ORFBO      0.068315        0.552421   \n",
       "1  0003-MKNFE      0.062454        0.504421   \n",
       "2  0004-TLHLJ      0.032338        0.622316   \n",
       "3  0011-IGKFF      0.142531        0.825263   \n",
       "4  0013-EXCHZ      0.030789        0.706526   \n",
       "\n",
       "   online_security_No internet service  online_security_Yes  churn_Yes  \\\n",
       "0                                    0                    0          0   \n",
       "1                                    0                    0          0   \n",
       "2                                    0                    0          1   \n",
       "3                                    0                    0          1   \n",
       "4                                    0                    0          1   \n",
       "\n",
       "   internet_service_type_Fiber optic  internet_service_type_None  \\\n",
       "0                                  0                           0   \n",
       "1                                  0                           0   \n",
       "2                                  1                           0   \n",
       "3                                  1                           0   \n",
       "4                                  1                           0   \n",
       "\n",
       "   contract_type_One year  contract_type_Two year  \n",
       "0                       1                       0  \n",
       "1                       0                       0  \n",
       "2                       0                       0  \n",
       "3                       0                       0  \n",
       "4                       0                       0  "
      ]
     },
     "execution_count": 26,
     "metadata": {},
     "output_type": "execute_result"
    }
   ],
   "source": [
    "telco = acquire.get_telco_data()\n",
    "telco = prepare.prep_classification_project_pred(telco) \n",
    "telco.head()"
   ]
  },
  {
   "cell_type": "code",
   "execution_count": 27,
   "id": "a72e6d9c",
   "metadata": {},
   "outputs": [],
   "source": [
    "train, test = train_test_split(telco, test_size=.2, random_state=123, stratify=telco.churn_Yes)\n",
    "train, validate = train_test_split(train, test_size=.3, random_state=123, stratify=train.churn_Yes)"
   ]
  },
  {
   "cell_type": "code",
   "execution_count": 28,
   "id": "f95f2531",
   "metadata": {},
   "outputs": [],
   "source": [
    "x_train = train.drop(columns = ['churn_Yes', 'customer_id'])\n",
    "y_train = train['churn_Yes']\n",
    "\n",
    "x_val = validate.drop(columns = ['churn_Yes', 'customer_id'])\n",
    "y_val = validate['churn_Yes']\n",
    "\n",
    "x_test = test.drop(columns = ['churn_Yes', 'customer_id'])\n",
    "y_test = test['churn_Yes']"
   ]
  },
  {
   "cell_type": "code",
   "execution_count": 29,
   "id": "5e1fbe66",
   "metadata": {},
   "outputs": [
    {
     "data": {
      "text/plain": [
       "LogisticRegression(random_state=42)"
      ]
     },
     "execution_count": 29,
     "metadata": {},
     "output_type": "execute_result"
    }
   ],
   "source": [
    "logit = LogisticRegression(random_state= 42)\n",
    "logit.fit(x_train, y_train)"
   ]
  },
  {
   "cell_type": "code",
   "execution_count": 30,
   "id": "476fd46a",
   "metadata": {},
   "outputs": [
    {
     "data": {
      "text/html": [
       "<div>\n",
       "<style scoped>\n",
       "    .dataframe tbody tr th:only-of-type {\n",
       "        vertical-align: middle;\n",
       "    }\n",
       "\n",
       "    .dataframe tbody tr th {\n",
       "        vertical-align: top;\n",
       "    }\n",
       "\n",
       "    .dataframe thead th {\n",
       "        text-align: right;\n",
       "    }\n",
       "</style>\n",
       "<table border=\"1\" class=\"dataframe\">\n",
       "  <thead>\n",
       "    <tr style=\"text-align: right;\">\n",
       "      <th></th>\n",
       "      <th>customer_id</th>\n",
       "      <th>scaled_total</th>\n",
       "      <th>scaled_monthly</th>\n",
       "      <th>online_security_No internet service</th>\n",
       "      <th>online_security_Yes</th>\n",
       "      <th>churn_Yes</th>\n",
       "      <th>internet_service_type_Fiber optic</th>\n",
       "      <th>internet_service_type_None</th>\n",
       "      <th>contract_type_One year</th>\n",
       "      <th>contract_type_Two year</th>\n",
       "    </tr>\n",
       "  </thead>\n",
       "  <tbody>\n",
       "    <tr>\n",
       "      <th>3311</th>\n",
       "      <td>4716-MRVEN</td>\n",
       "      <td>0.069006</td>\n",
       "      <td>0.168421</td>\n",
       "      <td>1</td>\n",
       "      <td>0</td>\n",
       "      <td>0</td>\n",
       "      <td>0</td>\n",
       "      <td>1</td>\n",
       "      <td>1</td>\n",
       "      <td>0</td>\n",
       "    </tr>\n",
       "    <tr>\n",
       "      <th>6330</th>\n",
       "      <td>8966-KZXXA</td>\n",
       "      <td>0.107193</td>\n",
       "      <td>0.211368</td>\n",
       "      <td>1</td>\n",
       "      <td>0</td>\n",
       "      <td>0</td>\n",
       "      <td>0</td>\n",
       "      <td>1</td>\n",
       "      <td>0</td>\n",
       "      <td>1</td>\n",
       "    </tr>\n",
       "    <tr>\n",
       "      <th>6156</th>\n",
       "      <td>8720-RQSBJ</td>\n",
       "      <td>0.005066</td>\n",
       "      <td>0.370526</td>\n",
       "      <td>0</td>\n",
       "      <td>0</td>\n",
       "      <td>0</td>\n",
       "      <td>0</td>\n",
       "      <td>0</td>\n",
       "      <td>0</td>\n",
       "      <td>0</td>\n",
       "    </tr>\n",
       "    <tr>\n",
       "      <th>5313</th>\n",
       "      <td>7504-UWHNB</td>\n",
       "      <td>0.199124</td>\n",
       "      <td>0.587368</td>\n",
       "      <td>0</td>\n",
       "      <td>0</td>\n",
       "      <td>0</td>\n",
       "      <td>1</td>\n",
       "      <td>0</td>\n",
       "      <td>0</td>\n",
       "      <td>0</td>\n",
       "    </tr>\n",
       "    <tr>\n",
       "      <th>1176</th>\n",
       "      <td>1730-VFMWO</td>\n",
       "      <td>0.209020</td>\n",
       "      <td>0.422737</td>\n",
       "      <td>0</td>\n",
       "      <td>0</td>\n",
       "      <td>0</td>\n",
       "      <td>0</td>\n",
       "      <td>0</td>\n",
       "      <td>0</td>\n",
       "      <td>0</td>\n",
       "    </tr>\n",
       "    <tr>\n",
       "      <th>...</th>\n",
       "      <td>...</td>\n",
       "      <td>...</td>\n",
       "      <td>...</td>\n",
       "      <td>...</td>\n",
       "      <td>...</td>\n",
       "      <td>...</td>\n",
       "      <td>...</td>\n",
       "      <td>...</td>\n",
       "      <td>...</td>\n",
       "      <td>...</td>\n",
       "    </tr>\n",
       "    <tr>\n",
       "      <th>600</th>\n",
       "      <td>0877-SDMBN</td>\n",
       "      <td>0.649301</td>\n",
       "      <td>0.875368</td>\n",
       "      <td>0</td>\n",
       "      <td>1</td>\n",
       "      <td>1</td>\n",
       "      <td>1</td>\n",
       "      <td>0</td>\n",
       "      <td>1</td>\n",
       "      <td>0</td>\n",
       "    </tr>\n",
       "    <tr>\n",
       "      <th>3946</th>\n",
       "      <td>5555-RNPGT</td>\n",
       "      <td>0.025781</td>\n",
       "      <td>0.208842</td>\n",
       "      <td>1</td>\n",
       "      <td>0</td>\n",
       "      <td>0</td>\n",
       "      <td>0</td>\n",
       "      <td>1</td>\n",
       "      <td>0</td>\n",
       "      <td>0</td>\n",
       "    </tr>\n",
       "    <tr>\n",
       "      <th>3230</th>\n",
       "      <td>4628-CTTLA</td>\n",
       "      <td>0.243120</td>\n",
       "      <td>0.330947</td>\n",
       "      <td>0</td>\n",
       "      <td>0</td>\n",
       "      <td>1</td>\n",
       "      <td>0</td>\n",
       "      <td>0</td>\n",
       "      <td>0</td>\n",
       "      <td>0</td>\n",
       "    </tr>\n",
       "    <tr>\n",
       "      <th>349</th>\n",
       "      <td>0516-QREYC</td>\n",
       "      <td>0.052960</td>\n",
       "      <td>0.170947</td>\n",
       "      <td>1</td>\n",
       "      <td>0</td>\n",
       "      <td>0</td>\n",
       "      <td>0</td>\n",
       "      <td>1</td>\n",
       "      <td>0</td>\n",
       "      <td>0</td>\n",
       "    </tr>\n",
       "    <tr>\n",
       "      <th>3690</th>\n",
       "      <td>5198-HQAEN</td>\n",
       "      <td>0.364499</td>\n",
       "      <td>0.755368</td>\n",
       "      <td>0</td>\n",
       "      <td>0</td>\n",
       "      <td>0</td>\n",
       "      <td>1</td>\n",
       "      <td>0</td>\n",
       "      <td>1</td>\n",
       "      <td>0</td>\n",
       "    </tr>\n",
       "  </tbody>\n",
       "</table>\n",
       "<p>1407 rows × 10 columns</p>\n",
       "</div>"
      ],
      "text/plain": [
       "     customer_id  scaled_total  scaled_monthly  \\\n",
       "3311  4716-MRVEN      0.069006        0.168421   \n",
       "6330  8966-KZXXA      0.107193        0.211368   \n",
       "6156  8720-RQSBJ      0.005066        0.370526   \n",
       "5313  7504-UWHNB      0.199124        0.587368   \n",
       "1176  1730-VFMWO      0.209020        0.422737   \n",
       "...          ...           ...             ...   \n",
       "600   0877-SDMBN      0.649301        0.875368   \n",
       "3946  5555-RNPGT      0.025781        0.208842   \n",
       "3230  4628-CTTLA      0.243120        0.330947   \n",
       "349   0516-QREYC      0.052960        0.170947   \n",
       "3690  5198-HQAEN      0.364499        0.755368   \n",
       "\n",
       "      online_security_No internet service  online_security_Yes  churn_Yes  \\\n",
       "3311                                    1                    0          0   \n",
       "6330                                    1                    0          0   \n",
       "6156                                    0                    0          0   \n",
       "5313                                    0                    0          0   \n",
       "1176                                    0                    0          0   \n",
       "...                                   ...                  ...        ...   \n",
       "600                                     0                    1          1   \n",
       "3946                                    1                    0          0   \n",
       "3230                                    0                    0          1   \n",
       "349                                     1                    0          0   \n",
       "3690                                    0                    0          0   \n",
       "\n",
       "      internet_service_type_Fiber optic  internet_service_type_None  \\\n",
       "3311                                  0                           1   \n",
       "6330                                  0                           1   \n",
       "6156                                  0                           0   \n",
       "5313                                  1                           0   \n",
       "1176                                  0                           0   \n",
       "...                                 ...                         ...   \n",
       "600                                   1                           0   \n",
       "3946                                  0                           1   \n",
       "3230                                  0                           0   \n",
       "349                                   0                           1   \n",
       "3690                                  1                           0   \n",
       "\n",
       "      contract_type_One year  contract_type_Two year  \n",
       "3311                       1                       0  \n",
       "6330                       0                       1  \n",
       "6156                       0                       0  \n",
       "5313                       0                       0  \n",
       "1176                       0                       0  \n",
       "...                      ...                     ...  \n",
       "600                        1                       0  \n",
       "3946                       0                       0  \n",
       "3230                       0                       0  \n",
       "349                        0                       0  \n",
       "3690                       1                       0  \n",
       "\n",
       "[1407 rows x 10 columns]"
      ]
     },
     "execution_count": 30,
     "metadata": {},
     "output_type": "execute_result"
    }
   ],
   "source": [
    "test"
   ]
  },
  {
   "cell_type": "code",
   "execution_count": 31,
   "id": "f45f2820",
   "metadata": {},
   "outputs": [],
   "source": [
    "y_pred = logit.predict(x_test)\n"
   ]
  },
  {
   "cell_type": "code",
   "execution_count": 32,
   "id": "57e0c566",
   "metadata": {},
   "outputs": [
    {
     "data": {
      "text/plain": [
       "array([0, 0, 0, ..., 0, 0, 0], dtype=uint8)"
      ]
     },
     "execution_count": 32,
     "metadata": {},
     "output_type": "execute_result"
    }
   ],
   "source": [
    "y_pred"
   ]
  },
  {
   "cell_type": "code",
   "execution_count": 33,
   "id": "757d869d",
   "metadata": {},
   "outputs": [],
   "source": [
    "y_pred_proba = rf.predict_proba(x_test)"
   ]
  },
  {
   "cell_type": "code",
   "execution_count": 34,
   "id": "e9a5d512",
   "metadata": {},
   "outputs": [],
   "source": [
    "y_pred_proba = pd.DataFrame(y_pred_proba)\n",
    "y_pred_proba\n",
    "y_pred_proba = y_pred_proba.rename(columns={y_pred_proba.columns[1]: 'churn'})\n",
    "cadfa = np.array(y_pred_proba['churn'])\n",
    "adfad = np.array(test.customer_id)"
   ]
  },
  {
   "cell_type": "code",
   "execution_count": 44,
   "id": "1651042d",
   "metadata": {},
   "outputs": [],
   "source": [
    "csvdf = pd.DataFrame({'prediction': y_pred,\n",
    "            'probability': cadfa,\n",
    "             'customer_id': adfad})"
   ]
  },
  {
   "cell_type": "code",
   "execution_count": 48,
   "id": "30ea8f3f",
   "metadata": {},
   "outputs": [
    {
     "ename": "AttributeError",
     "evalue": "'function' object has no attribute 'pd'",
     "output_type": "error",
     "traceback": [
      "\u001b[0;31m---------------------------------------------------------------------------\u001b[0m",
      "\u001b[0;31mAttributeError\u001b[0m                            Traceback (most recent call last)",
      "\u001b[0;32m/var/folders/9m/3m9g9yzs77j2m_79z47fjdr00000gq/T/ipykernel_10083/1383958471.py\u001b[0m in \u001b[0;36m<module>\u001b[0;34m\u001b[0m\n\u001b[0;32m----> 1\u001b[0;31m \u001b[0mcsvdf\u001b[0m\u001b[0;34m.\u001b[0m\u001b[0mpd\u001b[0m\u001b[0;34m.\u001b[0m\u001b[0mto_csv\u001b[0m\u001b[0;34m(\u001b[0m\u001b[0;34m'preandprob'\u001b[0m\u001b[0;34m,\u001b[0m \u001b[0mindex\u001b[0m \u001b[0;34m=\u001b[0m \u001b[0;32mFalse\u001b[0m\u001b[0;34m)\u001b[0m\u001b[0;34m\u001b[0m\u001b[0;34m\u001b[0m\u001b[0m\n\u001b[0m",
      "\u001b[0;31mAttributeError\u001b[0m: 'function' object has no attribute 'pd'"
     ]
    }
   ],
   "source": [
    "csvdf.pd.to_csv('preandprob', index = False)"
   ]
  },
  {
   "cell_type": "code",
   "execution_count": 45,
   "id": "b96aed84",
   "metadata": {},
   "outputs": [],
   "source": [
    "csvdf = csvdf.pivot"
   ]
  },
  {
   "cell_type": "code",
   "execution_count": 46,
   "id": "1e71904e",
   "metadata": {},
   "outputs": [
    {
     "ename": "AttributeError",
     "evalue": "'function' object has no attribute 'to_csv'",
     "output_type": "error",
     "traceback": [
      "\u001b[0;31m---------------------------------------------------------------------------\u001b[0m",
      "\u001b[0;31mAttributeError\u001b[0m                            Traceback (most recent call last)",
      "\u001b[0;32m/var/folders/9m/3m9g9yzs77j2m_79z47fjdr00000gq/T/ipykernel_10083/1501954036.py\u001b[0m in \u001b[0;36m<module>\u001b[0;34m\u001b[0m\n\u001b[0;32m----> 1\u001b[0;31m \u001b[0mcsvdf\u001b[0m\u001b[0;34m.\u001b[0m\u001b[0mto_csv\u001b[0m\u001b[0;34m(\u001b[0m\u001b[0;34m'preandprob'\u001b[0m\u001b[0;34m,\u001b[0m \u001b[0mindex\u001b[0m \u001b[0;34m=\u001b[0m \u001b[0;32mFalse\u001b[0m\u001b[0;34m)\u001b[0m\u001b[0;34m\u001b[0m\u001b[0;34m\u001b[0m\u001b[0m\n\u001b[0m",
      "\u001b[0;31mAttributeError\u001b[0m: 'function' object has no attribute 'to_csv'"
     ]
    }
   ],
   "source": [
    "csvdf.to_csv('preandprob', index = False)"
   ]
  },
  {
   "cell_type": "code",
   "execution_count": null,
   "id": "42c01854",
   "metadata": {},
   "outputs": [],
   "source": []
  }
 ],
 "metadata": {
  "kernelspec": {
   "display_name": "Python 3 (ipykernel)",
   "language": "python",
   "name": "python3"
  },
  "language_info": {
   "codemirror_mode": {
    "name": "ipython",
    "version": 3
   },
   "file_extension": ".py",
   "mimetype": "text/x-python",
   "name": "python",
   "nbconvert_exporter": "python",
   "pygments_lexer": "ipython3",
   "version": "3.9.13"
  }
 },
 "nbformat": 4,
 "nbformat_minor": 5
}
