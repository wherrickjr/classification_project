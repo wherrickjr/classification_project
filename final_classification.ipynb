{
 "cells": [
  {
   "cell_type": "markdown",
   "id": "e514c740",
   "metadata": {},
   "source": [
    "# Customer Churn Factors"
   ]
  },
  {
   "cell_type": "markdown",
   "id": "5e82ec60",
   "metadata": {},
   "source": [
    "# Goals:\n",
    "* identify factors that contribute to customer churn\n",
    "* use machine learning model to classify customers as churn or not"
   ]
  },
  {
   "cell_type": "markdown",
   "id": "de8dbe8c",
   "metadata": {},
   "source": [
    "# Imports"
   ]
  },
  {
   "cell_type": "code",
   "execution_count": 1,
   "id": "c6a674be",
   "metadata": {},
   "outputs": [],
   "source": [
    "import pandas as pd\n",
    "import numpy as np\n",
    "\n",
    "import matplotlib.pyplot as plt\n",
    "import seaborn as sns\n",
    "import os\n",
    "\n",
    "from sklearn.model_selection import train_test_split\n",
    "import sklearn.preprocessing\n",
    "from sklearn.tree import DecisionTreeClassifier\n",
    "from sklearn.ensemble import RandomForestClassifier\n",
    "from sklearn.neighbors import KNeighborsClassifier\n",
    "from sklearn.linear_model import LogisticRegression\n",
    "from sklearn.tree import DecisionTreeClassifier, plot_tree\n",
    "from sklearn.metrics import classification_report\n",
    "\n",
    "import warnings\n",
    "warnings.filterwarnings(\"ignore\")\n",
    "\n",
    "from scipy import stats\n",
    "import acquire\n",
    "import prepare"
   ]
  },
  {
   "cell_type": "markdown",
   "id": "f4013c71",
   "metadata": {},
   "source": [
    "# Acquire\n",
    "\n",
    "* Accquired data from noether sequal server\n",
    "* data obtained 1/2/2023\n",
    "* 7043 rows by 24 columns before cleaning\n",
    "* Each row represents a customer\n",
    "* Each column represents a demograhic or service type information\n"
   ]
  },
  {
   "cell_type": "markdown",
   "id": "93031bae",
   "metadata": {},
   "source": [
    "# Prepare\n",
    "* Removed columns that did not contain useful information\n",
    "* Checked for nulls in the data and removed them\n",
    "* Eliminated rows that did have a space as a value in their total_charges column\n",
    "* Changed total_charges column object to float\n",
    "* Added dummy variables for categorical variables\n",
    "* Split data into train, validate and test (approx. 60/25/15), stratifying on 'churn'\n",
    "* Scaled continuous variable\n",
    "* Outliers have not been removed for this iteration of the project"
   ]
  },
  {
   "cell_type": "markdown",
   "id": "2818e4d7",
   "metadata": {},
   "source": [
    "\n",
    "# Data Dictionary\n",
    "\n",
    "\n"
   ]
  },
  {
   "cell_type": "markdown",
   "id": "30152fb8",
   "metadata": {},
   "source": [
    "| Feature | Definition |\n",
    "|:--------|:-----------|\n",
    "|online_security| True or False, states whether or not customer has online_security|\n",
    "|churn (target)| True or False, if True, this means that the customer cancelled their services|\n",
    "|monthly_charges| How much money in USD a customer pays per month|\n",
    "|total_charges| How much money in USD a customer has paid over the course of their contract(s)|\n",
    "|contract_type| The length of a customer's contract before they can cancel without penalties|"
   ]
  },
  {
   "cell_type": "markdown",
   "id": "548fd0c0",
   "metadata": {},
   "source": [
    "## A Brief look at data"
   ]
  },
  {
   "cell_type": "code",
   "execution_count": 3,
   "id": "07739e00",
   "metadata": {},
   "outputs": [
    {
     "data": {
      "text/html": [
       "<div>\n",
       "<style scoped>\n",
       "    .dataframe tbody tr th:only-of-type {\n",
       "        vertical-align: middle;\n",
       "    }\n",
       "\n",
       "    .dataframe tbody tr th {\n",
       "        vertical-align: top;\n",
       "    }\n",
       "\n",
       "    .dataframe thead th {\n",
       "        text-align: right;\n",
       "    }\n",
       "</style>\n",
       "<table border=\"1\" class=\"dataframe\">\n",
       "  <thead>\n",
       "    <tr style=\"text-align: right;\">\n",
       "      <th></th>\n",
       "      <th>churn</th>\n",
       "      <th>scaled_total</th>\n",
       "      <th>scaled_monthly</th>\n",
       "      <th>online_security_No internet service</th>\n",
       "      <th>online_security_Yes</th>\n",
       "      <th>internet_service_type_Fiber optic</th>\n",
       "      <th>internet_service_type_None</th>\n",
       "      <th>contract_type_One year</th>\n",
       "      <th>contract_type_Two year</th>\n",
       "    </tr>\n",
       "  </thead>\n",
       "  <tbody>\n",
       "    <tr>\n",
       "      <th>0</th>\n",
       "      <td>No</td>\n",
       "      <td>0.068315</td>\n",
       "      <td>0.552421</td>\n",
       "      <td>0</td>\n",
       "      <td>0</td>\n",
       "      <td>0</td>\n",
       "      <td>0</td>\n",
       "      <td>1</td>\n",
       "      <td>0</td>\n",
       "    </tr>\n",
       "    <tr>\n",
       "      <th>1</th>\n",
       "      <td>No</td>\n",
       "      <td>0.062454</td>\n",
       "      <td>0.504421</td>\n",
       "      <td>0</td>\n",
       "      <td>0</td>\n",
       "      <td>0</td>\n",
       "      <td>0</td>\n",
       "      <td>0</td>\n",
       "      <td>0</td>\n",
       "    </tr>\n",
       "    <tr>\n",
       "      <th>2</th>\n",
       "      <td>Yes</td>\n",
       "      <td>0.032338</td>\n",
       "      <td>0.622316</td>\n",
       "      <td>0</td>\n",
       "      <td>0</td>\n",
       "      <td>1</td>\n",
       "      <td>0</td>\n",
       "      <td>0</td>\n",
       "      <td>0</td>\n",
       "    </tr>\n",
       "    <tr>\n",
       "      <th>3</th>\n",
       "      <td>Yes</td>\n",
       "      <td>0.142531</td>\n",
       "      <td>0.825263</td>\n",
       "      <td>0</td>\n",
       "      <td>0</td>\n",
       "      <td>1</td>\n",
       "      <td>0</td>\n",
       "      <td>0</td>\n",
       "      <td>0</td>\n",
       "    </tr>\n",
       "    <tr>\n",
       "      <th>4</th>\n",
       "      <td>Yes</td>\n",
       "      <td>0.030789</td>\n",
       "      <td>0.706526</td>\n",
       "      <td>0</td>\n",
       "      <td>0</td>\n",
       "      <td>1</td>\n",
       "      <td>0</td>\n",
       "      <td>0</td>\n",
       "      <td>0</td>\n",
       "    </tr>\n",
       "  </tbody>\n",
       "</table>\n",
       "</div>"
      ],
      "text/plain": [
       "  churn  scaled_total  scaled_monthly  online_security_No internet service  \\\n",
       "0    No      0.068315        0.552421                                    0   \n",
       "1    No      0.062454        0.504421                                    0   \n",
       "2   Yes      0.032338        0.622316                                    0   \n",
       "3   Yes      0.142531        0.825263                                    0   \n",
       "4   Yes      0.030789        0.706526                                    0   \n",
       "\n",
       "   online_security_Yes  internet_service_type_Fiber optic  \\\n",
       "0                    0                                  0   \n",
       "1                    0                                  0   \n",
       "2                    0                                  1   \n",
       "3                    0                                  1   \n",
       "4                    0                                  1   \n",
       "\n",
       "   internet_service_type_None  contract_type_One year  contract_type_Two year  \n",
       "0                           0                       1                       0  \n",
       "1                           0                       0                       0  \n",
       "2                           0                       0                       0  \n",
       "3                           0                       0                       0  \n",
       "4                           0                       0                       0  "
      ]
     },
     "execution_count": 3,
     "metadata": {},
     "output_type": "execute_result"
    }
   ],
   "source": [
    "telco = acquire.get_telco_data()\n",
    "telco = prepare.prep_classification_project_tree(telco) \n",
    "telco.head()"
   ]
  },
  {
   "cell_type": "code",
   "execution_count": 6,
   "id": "daea54e1",
   "metadata": {},
   "outputs": [],
   "source": [
    "train, test = train_test_split(telco, test_size=.2, random_state=123, stratify=telco.churn)\n",
    "train, validate = train_test_split(train, test_size=.3, random_state=123, stratify=train.churn)\n"
   ]
  },
  {
   "cell_type": "markdown",
   "id": "27c5487c",
   "metadata": {},
   "source": [
    "## A summary of the data"
   ]
  },
  {
   "cell_type": "code",
   "execution_count": 7,
   "id": "911492dc",
   "metadata": {},
   "outputs": [
    {
     "data": {
      "text/html": [
       "<div>\n",
       "<style scoped>\n",
       "    .dataframe tbody tr th:only-of-type {\n",
       "        vertical-align: middle;\n",
       "    }\n",
       "\n",
       "    .dataframe tbody tr th {\n",
       "        vertical-align: top;\n",
       "    }\n",
       "\n",
       "    .dataframe thead th {\n",
       "        text-align: right;\n",
       "    }\n",
       "</style>\n",
       "<table border=\"1\" class=\"dataframe\">\n",
       "  <thead>\n",
       "    <tr style=\"text-align: right;\">\n",
       "      <th></th>\n",
       "      <th>scaled_total</th>\n",
       "      <th>scaled_monthly</th>\n",
       "      <th>online_security_No internet service</th>\n",
       "      <th>online_security_Yes</th>\n",
       "      <th>internet_service_type_Fiber optic</th>\n",
       "      <th>internet_service_type_None</th>\n",
       "      <th>contract_type_One year</th>\n",
       "      <th>contract_type_Two year</th>\n",
       "    </tr>\n",
       "  </thead>\n",
       "  <tbody>\n",
       "    <tr>\n",
       "      <th>count</th>\n",
       "      <td>3937.000000</td>\n",
       "      <td>3937.000000</td>\n",
       "      <td>3937.000000</td>\n",
       "      <td>3937.000000</td>\n",
       "      <td>3937.000000</td>\n",
       "      <td>3937.000000</td>\n",
       "      <td>3937.000000</td>\n",
       "      <td>3937.000000</td>\n",
       "    </tr>\n",
       "    <tr>\n",
       "      <th>mean</th>\n",
       "      <td>0.266762</td>\n",
       "      <td>0.545727</td>\n",
       "      <td>0.220218</td>\n",
       "      <td>0.292609</td>\n",
       "      <td>0.437389</td>\n",
       "      <td>0.220218</td>\n",
       "      <td>0.207010</td>\n",
       "      <td>0.243078</td>\n",
       "    </tr>\n",
       "    <tr>\n",
       "      <th>std</th>\n",
       "      <td>0.263102</td>\n",
       "      <td>0.255114</td>\n",
       "      <td>0.414447</td>\n",
       "      <td>0.455018</td>\n",
       "      <td>0.496127</td>\n",
       "      <td>0.414447</td>\n",
       "      <td>0.405215</td>\n",
       "      <td>0.428997</td>\n",
       "    </tr>\n",
       "    <tr>\n",
       "      <th>min</th>\n",
       "      <td>0.002170</td>\n",
       "      <td>0.153684</td>\n",
       "      <td>0.000000</td>\n",
       "      <td>0.000000</td>\n",
       "      <td>0.000000</td>\n",
       "      <td>0.000000</td>\n",
       "      <td>0.000000</td>\n",
       "      <td>0.000000</td>\n",
       "    </tr>\n",
       "    <tr>\n",
       "      <th>25%</th>\n",
       "      <td>0.045608</td>\n",
       "      <td>0.292211</td>\n",
       "      <td>0.000000</td>\n",
       "      <td>0.000000</td>\n",
       "      <td>0.000000</td>\n",
       "      <td>0.000000</td>\n",
       "      <td>0.000000</td>\n",
       "      <td>0.000000</td>\n",
       "    </tr>\n",
       "    <tr>\n",
       "      <th>50%</th>\n",
       "      <td>0.162905</td>\n",
       "      <td>0.591579</td>\n",
       "      <td>0.000000</td>\n",
       "      <td>0.000000</td>\n",
       "      <td>0.000000</td>\n",
       "      <td>0.000000</td>\n",
       "      <td>0.000000</td>\n",
       "      <td>0.000000</td>\n",
       "    </tr>\n",
       "    <tr>\n",
       "      <th>75%</th>\n",
       "      <td>0.448324</td>\n",
       "      <td>0.760421</td>\n",
       "      <td>0.000000</td>\n",
       "      <td>1.000000</td>\n",
       "      <td>1.000000</td>\n",
       "      <td>0.000000</td>\n",
       "      <td>0.000000</td>\n",
       "      <td>0.000000</td>\n",
       "    </tr>\n",
       "    <tr>\n",
       "      <th>max</th>\n",
       "      <td>0.989591</td>\n",
       "      <td>0.999158</td>\n",
       "      <td>1.000000</td>\n",
       "      <td>1.000000</td>\n",
       "      <td>1.000000</td>\n",
       "      <td>1.000000</td>\n",
       "      <td>1.000000</td>\n",
       "      <td>1.000000</td>\n",
       "    </tr>\n",
       "  </tbody>\n",
       "</table>\n",
       "</div>"
      ],
      "text/plain": [
       "       scaled_total  scaled_monthly  online_security_No internet service  \\\n",
       "count   3937.000000     3937.000000                          3937.000000   \n",
       "mean       0.266762        0.545727                             0.220218   \n",
       "std        0.263102        0.255114                             0.414447   \n",
       "min        0.002170        0.153684                             0.000000   \n",
       "25%        0.045608        0.292211                             0.000000   \n",
       "50%        0.162905        0.591579                             0.000000   \n",
       "75%        0.448324        0.760421                             0.000000   \n",
       "max        0.989591        0.999158                             1.000000   \n",
       "\n",
       "       online_security_Yes  internet_service_type_Fiber optic  \\\n",
       "count          3937.000000                        3937.000000   \n",
       "mean              0.292609                           0.437389   \n",
       "std               0.455018                           0.496127   \n",
       "min               0.000000                           0.000000   \n",
       "25%               0.000000                           0.000000   \n",
       "50%               0.000000                           0.000000   \n",
       "75%               1.000000                           1.000000   \n",
       "max               1.000000                           1.000000   \n",
       "\n",
       "       internet_service_type_None  contract_type_One year  \\\n",
       "count                 3937.000000             3937.000000   \n",
       "mean                     0.220218                0.207010   \n",
       "std                      0.414447                0.405215   \n",
       "min                      0.000000                0.000000   \n",
       "25%                      0.000000                0.000000   \n",
       "50%                      0.000000                0.000000   \n",
       "75%                      0.000000                0.000000   \n",
       "max                      1.000000                1.000000   \n",
       "\n",
       "       contract_type_Two year  \n",
       "count             3937.000000  \n",
       "mean                 0.243078  \n",
       "std                  0.428997  \n",
       "min                  0.000000  \n",
       "25%                  0.000000  \n",
       "50%                  0.000000  \n",
       "75%                  0.000000  \n",
       "max                  1.000000  "
      ]
     },
     "execution_count": 7,
     "metadata": {},
     "output_type": "execute_result"
    }
   ],
   "source": [
    "train.describe()"
   ]
  },
  {
   "cell_type": "markdown",
   "id": "af4f0ba5",
   "metadata": {},
   "source": [
    "# Explore"
   ]
  },
  {
   "cell_type": "markdown",
   "id": "526ed3e8",
   "metadata": {},
   "source": [
    "## How often does customer churn occur?"
   ]
  },
  {
   "cell_type": "code",
   "execution_count": 9,
   "id": "522cff35",
   "metadata": {},
   "outputs": [
    {
     "data": {
      "text/plain": [
       "Text(0.5, 1.0, 'churn rate')"
      ]
     },
     "execution_count": 9,
     "metadata": {},
     "output_type": "execute_result"
    },
    {
     "data": {
      "image/png": "[encoded data removed]",
      "text/plain": [
       "<Figure size 640x480 with 1 Axes>"
      ]
     },
     "metadata": {},
     "output_type": "display_data"
    }
   ],
   "source": [
    "y = np.array([1869, 5174])\n",
    "mylabels = ['churned', 'not churned']\n",
    "plt.pie(y, labels = mylabels, startangle=90, autopct='%1.1f%%')\n",
    "plt.title('churn rate')"
   ]
  },
  {
   "cell_type": "markdown",
   "id": "06280eaf",
   "metadata": {},
   "source": [
    "* about 1/4 of customers churn"
   ]
  },
  {
   "cell_type": "markdown",
   "id": "a26cd8a4",
   "metadata": {},
   "source": [
    "## Do total charges affect churn?"
   ]
  },
  {
   "cell_type": "code",
   "execution_count": null,
   "id": "c8d53db8",
   "metadata": {},
   "outputs": [],
   "source": []
  }
 ],
 "metadata": {
  "kernelspec": {
   "display_name": "Python 3 (ipykernel)",
   "language": "python",
   "name": "python3"
  },
  "language_info": {
   "codemirror_mode": {
    "name": "ipython",
    "version": 3
   },
   "file_extension": ".py",
   "mimetype": "text/x-python",
   "name": "python",
   "nbconvert_exporter": "python",
   "pygments_lexer": "ipython3",
   "version": "3.9.13"
  }
 },
 "nbformat": 4,
 "nbformat_minor": 5
}
